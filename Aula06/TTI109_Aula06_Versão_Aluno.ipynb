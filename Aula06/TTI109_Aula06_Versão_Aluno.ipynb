{
  "cells": [
    {
      "cell_type": "markdown",
      "metadata": {
        "id": "qy8oeFMY1Ces"
      },
      "source": [
        "# **TTI109 - Estatística**\n",
        "# **Aula 06 - Estatística Descritiva 05**\n",
        "\n",
        "Nessa aula vamos aprender a calcular:\n",
        "\n",
        "* Medidas de posição (quartis e separatrizes em geral);\n",
        "* Amplitude interquartil;\n",
        "* *Outliers* de uma distribuição;\n",
        "* Diagramas *boxplot*;\n",
        "* Escores-z."
      ]
    },
    {
      "cell_type": "markdown",
      "metadata": {
        "id": "Yb7zMnWFSBfR"
      },
      "source": [
        "## **Análise dos quartis de uma série de dados**\n",
        "\n",
        "Para o conjunto de dados a seguir:\n",
        "\n",
        "![Aula 06-01.png](data:image/png;base64,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)\n",
        "\n",
        "*   Determine os quartis;"
      ]
    },
    {
      "cell_type": "code",
      "execution_count": 6,
      "metadata": {
        "id": "J39GtY_NVhCX"
      },
      "outputs": [],
      "source": [
        "import pandas as pd\n",
        "\n",
        "# Conjunto de dados\n",
        "dados = pd.Series([42, 53, 36, 28, 26, 41, 37, 40, 48, 45,\n",
        "                   19, 38, 36, 56, 43, 34, 52, 38, 50, 43])"
      ]
    },
    {
      "cell_type": "code",
      "execution_count": 7,
      "metadata": {
        "id": "iTkkRAkA5IRO"
      },
      "outputs": [
        {
          "name": "stdout",
          "output_type": "stream",
          "text": [
            "Quartis em um Panda Series:\n"
          ]
        },
        {
          "data": {
            "text/plain": [
              "0.25    36.00\n",
              "0.50    40.50\n",
              "0.75    45.75\n",
              "dtype: float64"
            ]
          },
          "metadata": {},
          "output_type": "display_data"
        }
      ],
      "source": [
        "# Determinação dos três quartis\n",
        "quartis = dados.quantile([0.25, 0.5, 0.75], interpolation='linear')\n",
        "print('Quartis em um Panda Series:')\n",
        "display(quartis)"
      ]
    },
    {
      "cell_type": "code",
      "execution_count": 8,
      "metadata": {
        "id": "rOpoNYuh5Sk4"
      },
      "outputs": [
        {
          "name": "stdout",
          "output_type": "stream",
          "text": [
            "Desmembrando os quartis:\n",
            "Q1 = 36.0\n",
            "Q2 = 40.5\n",
            "Q3 = 45.75\n"
          ]
        }
      ],
      "source": [
        "# Mostrando os quartis ao usuário\n",
        "print('Desmembrando os quartis:')\n",
        "lquartis = list(quartis)\n",
        "for i in range(len(lquartis)):\n",
        "  print(f'Q{str(i+1)} = {lquartis[i]}')"
      ]
    },
    {
      "cell_type": "markdown",
      "metadata": {
        "id": "yRW_7I6s3SzK"
      },
      "source": [
        "*   Calcule a amplitude interquartil;"
      ]
    },
    {
      "cell_type": "code",
      "execution_count": 9,
      "metadata": {
        "id": "zccNwhsf5bn2"
      },
      "outputs": [
        {
          "name": "stdout",
          "output_type": "stream",
          "text": [
            "Amplitude interquartil: 9.75\n"
          ]
        }
      ],
      "source": [
        "# Calculando a amplitude interquartil\n",
        "interquartil = quartis[0.75] - quartis[0.25]\n",
        "print(f'Amplitude interquartil: {interquartil}')"
      ]
    },
    {
      "cell_type": "markdown",
      "metadata": {
        "id": "b0TtlXBm5eTR"
      },
      "source": [
        "*   Identifique quaisquer outliers."
      ]
    },
    {
      "cell_type": "code",
      "execution_count": 10,
      "metadata": {
        "id": "3_SoZ6js5fbX"
      },
      "outputs": [
        {
          "name": "stdout",
          "output_type": "stream",
          "text": [
            "Limites de detecção para outliers:\n",
            "Inferior = 21.375\n",
            "Superior = 60.375\n"
          ]
        }
      ],
      "source": [
        "# Limites para detecção de outliers\n",
        "lim_min = quartis[0.25] - 1.5*interquartil\n",
        "lim_max = quartis[0.75] + 1.5*interquartil\n",
        "print('Limites de detecção para outliers:')\n",
        "print(f'Inferior = {lim_min}')\n",
        "print(f'Superior = {lim_max}')"
      ]
    },
    {
      "cell_type": "code",
      "execution_count": 11,
      "metadata": {
        "id": "DwPBPu2Q6GI8"
      },
      "outputs": [
        {
          "name": "stdout",
          "output_type": "stream",
          "text": [
            "Outlier inferior:\n"
          ]
        },
        {
          "data": {
            "text/plain": [
              "10    19\n",
              "dtype: int64"
            ]
          },
          "metadata": {},
          "output_type": "display_data"
        },
        {
          "name": "stdout",
          "output_type": "stream",
          "text": [
            "\n",
            "Outlier superior:\n"
          ]
        },
        {
          "data": {
            "text/plain": [
              "Series([], dtype: int64)"
            ]
          },
          "metadata": {},
          "output_type": "display_data"
        }
      ],
      "source": [
        "# Procurando por outliers\n",
        "out_inf = dados.loc[dados <= lim_min]\n",
        "print('Outlier inferior:')\n",
        "display(out_inf)\n",
        "\n",
        "out_sup = dados.loc[dados >= lim_max]\n",
        "print('\\nOutlier superior:')\n",
        "display(out_sup)"
      ]
    },
    {
      "cell_type": "markdown",
      "metadata": {
        "id": "1CvDrM3yypq4"
      },
      "source": [
        "## **Customizando as separatrizes**\n",
        "\n",
        "É possível customizar as separatrizes usando o método `quantile`. Basta passar uma lista com os percentis desejados."
      ]
    },
    {
      "cell_type": "code",
      "execution_count": 12,
      "metadata": {
        "id": "U0DocFp_zD0h"
      },
      "outputs": [
        {
          "name": "stdout",
          "output_type": "stream",
          "text": [
            "Percentis em um Panda Series:\n"
          ]
        },
        {
          "data": {
            "text/plain": [
              "0.10    27.80\n",
              "0.35    37.65\n",
              "0.68    43.00\n",
              "0.95    53.15\n",
              "dtype: float64"
            ]
          },
          "metadata": {},
          "output_type": "display_data"
        }
      ],
      "source": [
        "# Determinação dos percentis customizados\n",
        "percentis = dados.quantile([0.1, 0.35, 0.68, 0.95], interpolation='linear')\n",
        "print('Percentis em um Panda Series:')\n",
        "display(percentis)"
      ]
    },
    {
      "cell_type": "markdown",
      "metadata": {
        "id": "FBrVSPrJzlkQ"
      },
      "source": [
        "## **Análise exploratória inicial**\n",
        "\n",
        "O `Pandas` permite uma análise exploratória simplificada por meio do método `describe`."
      ]
    },
    {
      "cell_type": "code",
      "execution_count": 13,
      "metadata": {
        "id": "Orn17l680T8y"
      },
      "outputs": [
        {
          "data": {
            "text/plain": [
              "count    20.000000\n",
              "mean     40.250000\n",
              "std       9.306902\n",
              "min      19.000000\n",
              "25%      36.000000\n",
              "50%      40.500000\n",
              "75%      45.750000\n",
              "max      56.000000\n",
              "dtype: float64"
            ]
          },
          "execution_count": 13,
          "metadata": {},
          "output_type": "execute_result"
        }
      ],
      "source": [
        "# Análise exploratória\n",
        "dados.describe()"
      ]
    },
    {
      "cell_type": "markdown",
      "metadata": {
        "id": "Omujr3bYJ6kC"
      },
      "source": [
        "## **Análise dos quartis de um painel de dados**\n",
        "\n",
        "O estudo realizado nas séries pode ser facilmente estendido para o caso de painéis de dados."
      ]
    },
    {
      "cell_type": "code",
      "execution_count": 14,
      "metadata": {
        "id": "8uMimuxx8hbs"
      },
      "outputs": [],
      "source": [
        "import numpy as np\n",
        "import matplotlib.pyplot as plt"
      ]
    },
    {
      "cell_type": "code",
      "execution_count": 15,
      "metadata": {
        "id": "Zetl0LjD8kFl"
      },
      "outputs": [
        {
          "data": {
            "text/html": [
              "<div>\n",
              "<style scoped>\n",
              "    .dataframe tbody tr th:only-of-type {\n",
              "        vertical-align: middle;\n",
              "    }\n",
              "\n",
              "    .dataframe tbody tr th {\n",
              "        vertical-align: top;\n",
              "    }\n",
              "\n",
              "    .dataframe thead th {\n",
              "        text-align: right;\n",
              "    }\n",
              "</style>\n",
              "<table border=\"1\" class=\"dataframe\">\n",
              "  <thead>\n",
              "    <tr style=\"text-align: right;\">\n",
              "      <th></th>\n",
              "      <th>total_bill</th>\n",
              "      <th>tip</th>\n",
              "      <th>sex</th>\n",
              "      <th>smoker</th>\n",
              "      <th>day</th>\n",
              "      <th>time</th>\n",
              "      <th>size</th>\n",
              "    </tr>\n",
              "  </thead>\n",
              "  <tbody>\n",
              "    <tr>\n",
              "      <th>0</th>\n",
              "      <td>16.99</td>\n",
              "      <td>1.01</td>\n",
              "      <td>Female</td>\n",
              "      <td>No</td>\n",
              "      <td>Sun</td>\n",
              "      <td>Dinner</td>\n",
              "      <td>2</td>\n",
              "    </tr>\n",
              "    <tr>\n",
              "      <th>1</th>\n",
              "      <td>10.34</td>\n",
              "      <td>1.66</td>\n",
              "      <td>Male</td>\n",
              "      <td>No</td>\n",
              "      <td>Sun</td>\n",
              "      <td>Dinner</td>\n",
              "      <td>3</td>\n",
              "    </tr>\n",
              "    <tr>\n",
              "      <th>2</th>\n",
              "      <td>21.01</td>\n",
              "      <td>3.50</td>\n",
              "      <td>Male</td>\n",
              "      <td>No</td>\n",
              "      <td>Sun</td>\n",
              "      <td>Dinner</td>\n",
              "      <td>3</td>\n",
              "    </tr>\n",
              "    <tr>\n",
              "      <th>3</th>\n",
              "      <td>23.68</td>\n",
              "      <td>3.31</td>\n",
              "      <td>Male</td>\n",
              "      <td>No</td>\n",
              "      <td>Sun</td>\n",
              "      <td>Dinner</td>\n",
              "      <td>2</td>\n",
              "    </tr>\n",
              "    <tr>\n",
              "      <th>4</th>\n",
              "      <td>24.59</td>\n",
              "      <td>3.61</td>\n",
              "      <td>Female</td>\n",
              "      <td>No</td>\n",
              "      <td>Sun</td>\n",
              "      <td>Dinner</td>\n",
              "      <td>4</td>\n",
              "    </tr>\n",
              "    <tr>\n",
              "      <th>...</th>\n",
              "      <td>...</td>\n",
              "      <td>...</td>\n",
              "      <td>...</td>\n",
              "      <td>...</td>\n",
              "      <td>...</td>\n",
              "      <td>...</td>\n",
              "      <td>...</td>\n",
              "    </tr>\n",
              "    <tr>\n",
              "      <th>239</th>\n",
              "      <td>29.03</td>\n",
              "      <td>5.92</td>\n",
              "      <td>Male</td>\n",
              "      <td>No</td>\n",
              "      <td>Sat</td>\n",
              "      <td>Dinner</td>\n",
              "      <td>3</td>\n",
              "    </tr>\n",
              "    <tr>\n",
              "      <th>240</th>\n",
              "      <td>27.18</td>\n",
              "      <td>2.00</td>\n",
              "      <td>Female</td>\n",
              "      <td>Yes</td>\n",
              "      <td>Sat</td>\n",
              "      <td>Dinner</td>\n",
              "      <td>2</td>\n",
              "    </tr>\n",
              "    <tr>\n",
              "      <th>241</th>\n",
              "      <td>22.67</td>\n",
              "      <td>2.00</td>\n",
              "      <td>Male</td>\n",
              "      <td>Yes</td>\n",
              "      <td>Sat</td>\n",
              "      <td>Dinner</td>\n",
              "      <td>2</td>\n",
              "    </tr>\n",
              "    <tr>\n",
              "      <th>242</th>\n",
              "      <td>17.82</td>\n",
              "      <td>1.75</td>\n",
              "      <td>Male</td>\n",
              "      <td>No</td>\n",
              "      <td>Sat</td>\n",
              "      <td>Dinner</td>\n",
              "      <td>2</td>\n",
              "    </tr>\n",
              "    <tr>\n",
              "      <th>243</th>\n",
              "      <td>18.78</td>\n",
              "      <td>3.00</td>\n",
              "      <td>Female</td>\n",
              "      <td>No</td>\n",
              "      <td>Thur</td>\n",
              "      <td>Dinner</td>\n",
              "      <td>2</td>\n",
              "    </tr>\n",
              "  </tbody>\n",
              "</table>\n",
              "<p>244 rows × 7 columns</p>\n",
              "</div>"
            ],
            "text/plain": [
              "     total_bill   tip     sex smoker   day    time  size\n",
              "0         16.99  1.01  Female     No   Sun  Dinner     2\n",
              "1         10.34  1.66    Male     No   Sun  Dinner     3\n",
              "2         21.01  3.50    Male     No   Sun  Dinner     3\n",
              "3         23.68  3.31    Male     No   Sun  Dinner     2\n",
              "4         24.59  3.61  Female     No   Sun  Dinner     4\n",
              "..          ...   ...     ...    ...   ...     ...   ...\n",
              "239       29.03  5.92    Male     No   Sat  Dinner     3\n",
              "240       27.18  2.00  Female    Yes   Sat  Dinner     2\n",
              "241       22.67  2.00    Male    Yes   Sat  Dinner     2\n",
              "242       17.82  1.75    Male     No   Sat  Dinner     2\n",
              "243       18.78  3.00  Female     No  Thur  Dinner     2\n",
              "\n",
              "[244 rows x 7 columns]"
            ]
          },
          "metadata": {},
          "output_type": "display_data"
        }
      ],
      "source": [
        "# Importação do conjunto de dados\n",
        "gorjetas = pd.read_csv(\"tips.csv\")\n",
        "display(gorjetas)"
      ]
    },
    {
      "cell_type": "code",
      "execution_count": 16,
      "metadata": {},
      "outputs": [
        {
          "data": {
            "text/html": [
              "<div>\n",
              "<style scoped>\n",
              "    .dataframe tbody tr th:only-of-type {\n",
              "        vertical-align: middle;\n",
              "    }\n",
              "\n",
              "    .dataframe tbody tr th {\n",
              "        vertical-align: top;\n",
              "    }\n",
              "\n",
              "    .dataframe thead th {\n",
              "        text-align: right;\n",
              "    }\n",
              "</style>\n",
              "<table border=\"1\" class=\"dataframe\">\n",
              "  <thead>\n",
              "    <tr style=\"text-align: right;\">\n",
              "      <th></th>\n",
              "      <th>total_bill</th>\n",
              "      <th>tip</th>\n",
              "      <th>sex</th>\n",
              "      <th>smoker</th>\n",
              "      <th>day</th>\n",
              "      <th>time</th>\n",
              "      <th>size</th>\n",
              "    </tr>\n",
              "  </thead>\n",
              "  <tbody>\n",
              "    <tr>\n",
              "      <th>0</th>\n",
              "      <td>16.99</td>\n",
              "      <td>1.01</td>\n",
              "      <td>Female</td>\n",
              "      <td>No</td>\n",
              "      <td>Sun</td>\n",
              "      <td>Dinner</td>\n",
              "      <td>2</td>\n",
              "    </tr>\n",
              "    <tr>\n",
              "      <th>1</th>\n",
              "      <td>10.34</td>\n",
              "      <td>1.66</td>\n",
              "      <td>Male</td>\n",
              "      <td>No</td>\n",
              "      <td>Sun</td>\n",
              "      <td>Dinner</td>\n",
              "      <td>3</td>\n",
              "    </tr>\n",
              "    <tr>\n",
              "      <th>2</th>\n",
              "      <td>21.01</td>\n",
              "      <td>3.50</td>\n",
              "      <td>Male</td>\n",
              "      <td>No</td>\n",
              "      <td>Sun</td>\n",
              "      <td>Dinner</td>\n",
              "      <td>3</td>\n",
              "    </tr>\n",
              "    <tr>\n",
              "      <th>3</th>\n",
              "      <td>23.68</td>\n",
              "      <td>3.31</td>\n",
              "      <td>Male</td>\n",
              "      <td>No</td>\n",
              "      <td>Sun</td>\n",
              "      <td>Dinner</td>\n",
              "      <td>2</td>\n",
              "    </tr>\n",
              "    <tr>\n",
              "      <th>4</th>\n",
              "      <td>24.59</td>\n",
              "      <td>3.61</td>\n",
              "      <td>Female</td>\n",
              "      <td>No</td>\n",
              "      <td>Sun</td>\n",
              "      <td>Dinner</td>\n",
              "      <td>4</td>\n",
              "    </tr>\n",
              "  </tbody>\n",
              "</table>\n",
              "</div>"
            ],
            "text/plain": [
              "   total_bill   tip     sex smoker  day    time  size\n",
              "0       16.99  1.01  Female     No  Sun  Dinner     2\n",
              "1       10.34  1.66    Male     No  Sun  Dinner     3\n",
              "2       21.01  3.50    Male     No  Sun  Dinner     3\n",
              "3       23.68  3.31    Male     No  Sun  Dinner     2\n",
              "4       24.59  3.61  Female     No  Sun  Dinner     4"
            ]
          },
          "metadata": {},
          "output_type": "display_data"
        }
      ],
      "source": [
        "display(gorjetas.head())"
      ]
    },
    {
      "cell_type": "code",
      "execution_count": 17,
      "metadata": {
        "id": "U-Rbp-UHJzug"
      },
      "outputs": [
        {
          "name": "stdout",
          "output_type": "stream",
          "text": [
            "Tabela com os quartis para cada coluna numérica:\n"
          ]
        },
        {
          "data": {
            "text/html": [
              "<div>\n",
              "<style scoped>\n",
              "    .dataframe tbody tr th:only-of-type {\n",
              "        vertical-align: middle;\n",
              "    }\n",
              "\n",
              "    .dataframe tbody tr th {\n",
              "        vertical-align: top;\n",
              "    }\n",
              "\n",
              "    .dataframe thead th {\n",
              "        text-align: right;\n",
              "    }\n",
              "</style>\n",
              "<table border=\"1\" class=\"dataframe\">\n",
              "  <thead>\n",
              "    <tr style=\"text-align: right;\">\n",
              "      <th></th>\n",
              "      <th>total_bill</th>\n",
              "      <th>tip</th>\n",
              "      <th>size</th>\n",
              "    </tr>\n",
              "  </thead>\n",
              "  <tbody>\n",
              "    <tr>\n",
              "      <th>0.25</th>\n",
              "      <td>13.3475</td>\n",
              "      <td>2.0000</td>\n",
              "      <td>2.0</td>\n",
              "    </tr>\n",
              "    <tr>\n",
              "      <th>0.50</th>\n",
              "      <td>17.7950</td>\n",
              "      <td>2.9000</td>\n",
              "      <td>2.0</td>\n",
              "    </tr>\n",
              "    <tr>\n",
              "      <th>0.75</th>\n",
              "      <td>24.1275</td>\n",
              "      <td>3.5625</td>\n",
              "      <td>3.0</td>\n",
              "    </tr>\n",
              "  </tbody>\n",
              "</table>\n",
              "</div>"
            ],
            "text/plain": [
              "      total_bill     tip  size\n",
              "0.25     13.3475  2.0000   2.0\n",
              "0.50     17.7950  2.9000   2.0\n",
              "0.75     24.1275  3.5625   3.0"
            ]
          },
          "metadata": {},
          "output_type": "display_data"
        }
      ],
      "source": [
        "\n",
        "# Determinação dos quartis\n",
        "quartis = gorjetas.quantile([0.25, 0.5, 0.75], axis=0, \n",
        "                            interpolation='linear', numeric_only=True)\n",
        "print('Tabela com os quartis para cada coluna numérica:')\n",
        "display(quartis)"
      ]
    },
    {
      "cell_type": "code",
      "execution_count": 18,
      "metadata": {
        "id": "voFawAP69H7R"
      },
      "outputs": [
        {
          "name": "stdout",
          "output_type": "stream",
          "text": [
            "Tabela com percentis customizados:\n"
          ]
        },
        {
          "data": {
            "text/html": [
              "<div>\n",
              "<style scoped>\n",
              "    .dataframe tbody tr th:only-of-type {\n",
              "        vertical-align: middle;\n",
              "    }\n",
              "\n",
              "    .dataframe tbody tr th {\n",
              "        vertical-align: top;\n",
              "    }\n",
              "\n",
              "    .dataframe thead th {\n",
              "        text-align: right;\n",
              "    }\n",
              "</style>\n",
              "<table border=\"1\" class=\"dataframe\">\n",
              "  <thead>\n",
              "    <tr style=\"text-align: right;\">\n",
              "      <th></th>\n",
              "      <th>total_bill</th>\n",
              "      <th>tip</th>\n",
              "      <th>size</th>\n",
              "    </tr>\n",
              "  </thead>\n",
              "  <tbody>\n",
              "    <tr>\n",
              "      <th>0.10</th>\n",
              "      <td>10.340</td>\n",
              "      <td>1.500</td>\n",
              "      <td>2.0</td>\n",
              "    </tr>\n",
              "    <tr>\n",
              "      <th>0.35</th>\n",
              "      <td>15.423</td>\n",
              "      <td>2.181</td>\n",
              "      <td>2.0</td>\n",
              "    </tr>\n",
              "    <tr>\n",
              "      <th>0.90</th>\n",
              "      <td>32.235</td>\n",
              "      <td>5.000</td>\n",
              "      <td>4.0</td>\n",
              "    </tr>\n",
              "  </tbody>\n",
              "</table>\n",
              "</div>"
            ],
            "text/plain": [
              "      total_bill    tip  size\n",
              "0.10      10.340  1.500   2.0\n",
              "0.35      15.423  2.181   2.0\n",
              "0.90      32.235  5.000   4.0"
            ]
          },
          "metadata": {},
          "output_type": "display_data"
        }
      ],
      "source": [
        "# Percentis customizados\n",
        "percentis = gorjetas.quantile([0.10, 0.35, 0.9], axis=0, \n",
        "                            interpolation='linear', numeric_only=True)\n",
        "print('Tabela com percentis customizados:')\n",
        "display(percentis)"
      ]
    },
    {
      "cell_type": "code",
      "execution_count": 19,
      "metadata": {
        "id": "D1z4iPIy9LYR"
      },
      "outputs": [
        {
          "name": "stdout",
          "output_type": "stream",
          "text": [
            "Análise exploraória:\n"
          ]
        },
        {
          "data": {
            "text/html": [
              "<div>\n",
              "<style scoped>\n",
              "    .dataframe tbody tr th:only-of-type {\n",
              "        vertical-align: middle;\n",
              "    }\n",
              "\n",
              "    .dataframe tbody tr th {\n",
              "        vertical-align: top;\n",
              "    }\n",
              "\n",
              "    .dataframe thead th {\n",
              "        text-align: right;\n",
              "    }\n",
              "</style>\n",
              "<table border=\"1\" class=\"dataframe\">\n",
              "  <thead>\n",
              "    <tr style=\"text-align: right;\">\n",
              "      <th></th>\n",
              "      <th>total_bill</th>\n",
              "      <th>tip</th>\n",
              "      <th>size</th>\n",
              "    </tr>\n",
              "  </thead>\n",
              "  <tbody>\n",
              "    <tr>\n",
              "      <th>count</th>\n",
              "      <td>244.000000</td>\n",
              "      <td>244.000000</td>\n",
              "      <td>244.000000</td>\n",
              "    </tr>\n",
              "    <tr>\n",
              "      <th>mean</th>\n",
              "      <td>19.785943</td>\n",
              "      <td>2.998279</td>\n",
              "      <td>2.569672</td>\n",
              "    </tr>\n",
              "    <tr>\n",
              "      <th>std</th>\n",
              "      <td>8.902412</td>\n",
              "      <td>1.383638</td>\n",
              "      <td>0.951100</td>\n",
              "    </tr>\n",
              "    <tr>\n",
              "      <th>min</th>\n",
              "      <td>3.070000</td>\n",
              "      <td>1.000000</td>\n",
              "      <td>1.000000</td>\n",
              "    </tr>\n",
              "    <tr>\n",
              "      <th>25%</th>\n",
              "      <td>13.347500</td>\n",
              "      <td>2.000000</td>\n",
              "      <td>2.000000</td>\n",
              "    </tr>\n",
              "    <tr>\n",
              "      <th>50%</th>\n",
              "      <td>17.795000</td>\n",
              "      <td>2.900000</td>\n",
              "      <td>2.000000</td>\n",
              "    </tr>\n",
              "    <tr>\n",
              "      <th>75%</th>\n",
              "      <td>24.127500</td>\n",
              "      <td>3.562500</td>\n",
              "      <td>3.000000</td>\n",
              "    </tr>\n",
              "    <tr>\n",
              "      <th>max</th>\n",
              "      <td>50.810000</td>\n",
              "      <td>10.000000</td>\n",
              "      <td>6.000000</td>\n",
              "    </tr>\n",
              "  </tbody>\n",
              "</table>\n",
              "</div>"
            ],
            "text/plain": [
              "       total_bill         tip        size\n",
              "count  244.000000  244.000000  244.000000\n",
              "mean    19.785943    2.998279    2.569672\n",
              "std      8.902412    1.383638    0.951100\n",
              "min      3.070000    1.000000    1.000000\n",
              "25%     13.347500    2.000000    2.000000\n",
              "50%     17.795000    2.900000    2.000000\n",
              "75%     24.127500    3.562500    3.000000\n",
              "max     50.810000   10.000000    6.000000"
            ]
          },
          "execution_count": 19,
          "metadata": {},
          "output_type": "execute_result"
        }
      ],
      "source": [
        "# Análise exploratória inicial\n",
        "print('Análise exploraória:')\n",
        "gorjetas.describe()"
      ]
    },
    {
      "cell_type": "markdown",
      "metadata": {
        "id": "IBmypRiU4_Hd"
      },
      "source": [
        "## **Boxplot - Série de dados**\n",
        "\n",
        "De volta ao conjunto de dados tratado no início desse notebook:\n",
        "\n",
        "![Aula 06-01.png](data:image/png;base64,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)\n",
        "\n",
        "Construa um diagrama boxplot representativo da distribuição."
      ]
    },
    {
      "cell_type": "code",
      "execution_count": 20,
      "metadata": {
        "id": "jcFoxYcL5TRV"
      },
      "outputs": [
        {
          "data": {
            "image/png": "[encoded data removed]",
            "text/plain": [
              "<Figure size 640x480 with 1 Axes>"
            ]
          },
          "metadata": {},
          "output_type": "display_data"
        }
      ],
      "source": [
        "# É preciso transformar o Pandas Series em um Pandas DataFrame\n",
        "# Não existe o método boxplot para objetos Pandas Series\n",
        "df = pd.DataFrame(dados)\n",
        "df.boxplot(color='red')\n",
        "plt.title('Distribuição dos dados')\n",
        "plt.show()"
      ]
    },
    {
      "cell_type": "markdown",
      "metadata": {
        "id": "9KN1EIVpBMf9"
      },
      "source": [
        "## **Boxplot - Painéis de dados**\n",
        "\n",
        "De volta ao conjunto de dados `tips.csv`. O uso do método `boxplot` tem seu total potencial realizado quando os dados estão no formato `Pandas DataFrame`. Vamos checar a distribuição do valor das comandas por dia de funcionamento do restaurante."
      ]
    },
    {
      "cell_type": "code",
      "execution_count": 21,
      "metadata": {},
      "outputs": [],
      "source": [
        "import matplotlib.pyplot as plt\n",
        "import pandas as pd"
      ]
    },
    {
      "cell_type": "code",
      "execution_count": 22,
      "metadata": {
        "id": "ftQt4m-uBL_-"
      },
      "outputs": [
        {
          "data": {
            "text/html": [
              "<div>\n",
              "<style scoped>\n",
              "    .dataframe tbody tr th:only-of-type {\n",
              "        vertical-align: middle;\n",
              "    }\n",
              "\n",
              "    .dataframe tbody tr th {\n",
              "        vertical-align: top;\n",
              "    }\n",
              "\n",
              "    .dataframe thead th {\n",
              "        text-align: right;\n",
              "    }\n",
              "</style>\n",
              "<table border=\"1\" class=\"dataframe\">\n",
              "  <thead>\n",
              "    <tr style=\"text-align: right;\">\n",
              "      <th></th>\n",
              "      <th>total_bill</th>\n",
              "      <th>tip</th>\n",
              "      <th>sex</th>\n",
              "      <th>smoker</th>\n",
              "      <th>day</th>\n",
              "      <th>time</th>\n",
              "      <th>size</th>\n",
              "    </tr>\n",
              "  </thead>\n",
              "  <tbody>\n",
              "    <tr>\n",
              "      <th>0</th>\n",
              "      <td>16.99</td>\n",
              "      <td>1.01</td>\n",
              "      <td>Female</td>\n",
              "      <td>No</td>\n",
              "      <td>Sun</td>\n",
              "      <td>Dinner</td>\n",
              "      <td>2</td>\n",
              "    </tr>\n",
              "    <tr>\n",
              "      <th>1</th>\n",
              "      <td>10.34</td>\n",
              "      <td>1.66</td>\n",
              "      <td>Male</td>\n",
              "      <td>No</td>\n",
              "      <td>Sun</td>\n",
              "      <td>Dinner</td>\n",
              "      <td>3</td>\n",
              "    </tr>\n",
              "    <tr>\n",
              "      <th>2</th>\n",
              "      <td>21.01</td>\n",
              "      <td>3.50</td>\n",
              "      <td>Male</td>\n",
              "      <td>No</td>\n",
              "      <td>Sun</td>\n",
              "      <td>Dinner</td>\n",
              "      <td>3</td>\n",
              "    </tr>\n",
              "    <tr>\n",
              "      <th>3</th>\n",
              "      <td>23.68</td>\n",
              "      <td>3.31</td>\n",
              "      <td>Male</td>\n",
              "      <td>No</td>\n",
              "      <td>Sun</td>\n",
              "      <td>Dinner</td>\n",
              "      <td>2</td>\n",
              "    </tr>\n",
              "    <tr>\n",
              "      <th>4</th>\n",
              "      <td>24.59</td>\n",
              "      <td>3.61</td>\n",
              "      <td>Female</td>\n",
              "      <td>No</td>\n",
              "      <td>Sun</td>\n",
              "      <td>Dinner</td>\n",
              "      <td>4</td>\n",
              "    </tr>\n",
              "  </tbody>\n",
              "</table>\n",
              "</div>"
            ],
            "text/plain": [
              "   total_bill   tip     sex smoker  day    time  size\n",
              "0       16.99  1.01  Female     No  Sun  Dinner     2\n",
              "1       10.34  1.66    Male     No  Sun  Dinner     3\n",
              "2       21.01  3.50    Male     No  Sun  Dinner     3\n",
              "3       23.68  3.31    Male     No  Sun  Dinner     2\n",
              "4       24.59  3.61  Female     No  Sun  Dinner     4"
            ]
          },
          "execution_count": 22,
          "metadata": {},
          "output_type": "execute_result"
        }
      ],
      "source": [
        "# Relembrando o formato dos dados\n",
        "gorjetas.head()"
      ]
    },
    {
      "cell_type": "code",
      "execution_count": 23,
      "metadata": {
        "id": "uWu3cKUo-Nia"
      },
      "outputs": [
        {
          "data": {
            "image/png": "[encoded data removed]",
            "text/plain": [
              "<Figure size 640x480 with 1 Axes>"
            ]
          },
          "metadata": {},
          "output_type": "display_data"
        }
      ],
      "source": [
        "# Diagrama boxplot\n",
        "gorjetas.boxplot(by='day', column=['total_bill'], color='red', showmeans=True)\n",
        "plt.title('Distribuição do valor das comandas')\n",
        "plt.suptitle('')\n",
        "plt.show()"
      ]
    },
    {
      "cell_type": "markdown",
      "metadata": {
        "id": "HyJy8Z69OSjq"
      },
      "source": [
        "Agora, vamos examinar a distribuição das gorjetas por dia de funcionamento do restaurante."
      ]
    },
    {
      "cell_type": "code",
      "execution_count": 24,
      "metadata": {
        "id": "fzKmPMb5OW7Y"
      },
      "outputs": [
        {
          "data": {
            "image/png": "[encoded data removed]",
            "text/plain": [
              "<Figure size 640x480 with 1 Axes>"
            ]
          },
          "metadata": {},
          "output_type": "display_data"
        }
      ],
      "source": [
        "\n",
        "# Diagrama boxplot\n",
        "gorjetas.boxplot(by='day', column=['tip'], color='blue', showmeans=True)\n",
        "plt.title('Distribuição do valor das gorjetas')\n",
        "plt.suptitle('')\n",
        "plt.show()\n"
      ]
    },
    {
      "cell_type": "markdown",
      "metadata": {
        "id": "H7oQoxILOq_j"
      },
      "source": [
        "Qual a distribuição das gorjetas agrupada por período de funcionamento?"
      ]
    },
    {
      "cell_type": "code",
      "execution_count": 25,
      "metadata": {
        "id": "69i88xOwOrMw"
      },
      "outputs": [
        {
          "data": {
            "image/png": "[encoded data removed]",
            "text/plain": [
              "<Figure size 640x480 with 1 Axes>"
            ]
          },
          "metadata": {},
          "output_type": "display_data"
        }
      ],
      "source": [
        "# Diagrama boxplot\n",
        "gorjetas.boxplot(by='day', column=['tip'], color='blue', showmeans=True)\n",
        "plt.title('Distribuição do valor das gorjetas')\n",
        "plt.suptitle('')\n",
        "plt.show()"
      ]
    },
    {
      "cell_type": "markdown",
      "metadata": {
        "id": "lbOPLDcePQ_L"
      },
      "source": [
        "Também é possível agrupar a distribuição de gorjetas usando dois ou mais fatores. Aqui, vamos agrupar por dia de funcionamento e gênero do cliente."
      ]
    },
    {
      "cell_type": "code",
      "execution_count": 26,
      "metadata": {
        "id": "GiU2P-VAPRMP"
      },
      "outputs": [
        {
          "data": {
            "image/png": "[encoded data removed]",
            "text/plain": [
              "<Figure size 1200x600 with 1 Axes>"
            ]
          },
          "metadata": {},
          "output_type": "display_data"
        }
      ],
      "source": [
        "\n",
        "gorjetas.boxplot(by=['day', 'sex'], column=['tip'],\n",
        "                 color='magenta', figsize=(12, 6), showmeans=True)\n",
        "plt.title('Distribuição do valor das gorjetas')\n",
        "plt.suptitle('')\n",
        "plt.show()"
      ]
    },
    {
      "cell_type": "markdown",
      "metadata": {
        "id": "BF_ONaolQOQR"
      },
      "source": [
        "## **Calculando escores-z**\n"
      ]
    },
    {
      "cell_type": "code",
      "execution_count": 27,
      "metadata": {
        "id": "EIpmbLLfQSjL"
      },
      "outputs": [
        {
          "name": "stdout",
          "output_type": "stream",
          "text": [
            "Tabela original:\n"
          ]
        },
        {
          "data": {
            "text/html": [
              "<div>\n",
              "<style scoped>\n",
              "    .dataframe tbody tr th:only-of-type {\n",
              "        vertical-align: middle;\n",
              "    }\n",
              "\n",
              "    .dataframe tbody tr th {\n",
              "        vertical-align: top;\n",
              "    }\n",
              "\n",
              "    .dataframe thead th {\n",
              "        text-align: right;\n",
              "    }\n",
              "</style>\n",
              "<table border=\"1\" class=\"dataframe\">\n",
              "  <thead>\n",
              "    <tr style=\"text-align: right;\">\n",
              "      <th></th>\n",
              "      <th>Nome</th>\n",
              "      <th>Idade</th>\n",
              "      <th>Renda</th>\n",
              "    </tr>\n",
              "  </thead>\n",
              "  <tbody>\n",
              "    <tr>\n",
              "      <th>0</th>\n",
              "      <td>Nik</td>\n",
              "      <td>32</td>\n",
              "      <td>80000</td>\n",
              "    </tr>\n",
              "    <tr>\n",
              "      <th>1</th>\n",
              "      <td>Kate</td>\n",
              "      <td>30</td>\n",
              "      <td>90000</td>\n",
              "    </tr>\n",
              "    <tr>\n",
              "      <th>2</th>\n",
              "      <td>Joe</td>\n",
              "      <td>67</td>\n",
              "      <td>45000</td>\n",
              "    </tr>\n",
              "    <tr>\n",
              "      <th>3</th>\n",
              "      <td>Mitch</td>\n",
              "      <td>34</td>\n",
              "      <td>23000</td>\n",
              "    </tr>\n",
              "    <tr>\n",
              "      <th>4</th>\n",
              "      <td>Alana</td>\n",
              "      <td>20</td>\n",
              "      <td>12000</td>\n",
              "    </tr>\n",
              "  </tbody>\n",
              "</table>\n",
              "</div>"
            ],
            "text/plain": [
              "    Nome  Idade  Renda\n",
              "0    Nik     32  80000\n",
              "1   Kate     30  90000\n",
              "2    Joe     67  45000\n",
              "3  Mitch     34  23000\n",
              "4  Alana     20  12000"
            ]
          },
          "metadata": {},
          "output_type": "display_data"
        }
      ],
      "source": [
        "import scipy.stats as stats\n",
        "\n",
        "# Criando o conjunto de dados\n",
        "dados = pd.DataFrame({'Nome': ['Nik', 'Kate', 'Joe', 'Mitch', 'Alana'],\n",
        "                      'Idade': [32, 30, 67, 34, 20],\n",
        "                      'Renda': [80000, 90000, 45000, 23000, 12000]})\n",
        "print('Tabela original:')\n",
        "display(dados)"
      ]
    },
    {
      "cell_type": "code",
      "execution_count": 28,
      "metadata": {
        "id": "HP3Dcw1J_TEK"
      },
      "outputs": [
        {
          "name": "stdout",
          "output_type": "stream",
          "text": [
            "Tabela com colunas substituídas pelos escores-z:\n"
          ]
        },
        {
          "data": {
            "text/html": [
              "<div>\n",
              "<style scoped>\n",
              "    .dataframe tbody tr th:only-of-type {\n",
              "        vertical-align: middle;\n",
              "    }\n",
              "\n",
              "    .dataframe tbody tr th {\n",
              "        vertical-align: top;\n",
              "    }\n",
              "\n",
              "    .dataframe thead th {\n",
              "        text-align: right;\n",
              "    }\n",
              "</style>\n",
              "<table border=\"1\" class=\"dataframe\">\n",
              "  <thead>\n",
              "    <tr style=\"text-align: right;\">\n",
              "      <th></th>\n",
              "      <th>Idade</th>\n",
              "      <th>Renda</th>\n",
              "    </tr>\n",
              "  </thead>\n",
              "  <tbody>\n",
              "    <tr>\n",
              "      <th>0</th>\n",
              "      <td>-0.288493</td>\n",
              "      <td>0.978700</td>\n",
              "    </tr>\n",
              "    <tr>\n",
              "      <th>1</th>\n",
              "      <td>-0.413925</td>\n",
              "      <td>1.304934</td>\n",
              "    </tr>\n",
              "    <tr>\n",
              "      <th>2</th>\n",
              "      <td>1.906565</td>\n",
              "      <td>-0.163117</td>\n",
              "    </tr>\n",
              "    <tr>\n",
              "      <th>3</th>\n",
              "      <td>-0.163061</td>\n",
              "      <td>-0.880830</td>\n",
              "    </tr>\n",
              "    <tr>\n",
              "      <th>4</th>\n",
              "      <td>-1.041085</td>\n",
              "      <td>-1.239687</td>\n",
              "    </tr>\n",
              "  </tbody>\n",
              "</table>\n",
              "</div>"
            ],
            "text/plain": [
              "      Idade     Renda\n",
              "0 -0.288493  0.978700\n",
              "1 -0.413925  1.304934\n",
              "2  1.906565 -0.163117\n",
              "3 -0.163061 -0.880830\n",
              "4 -1.041085 -1.239687"
            ]
          },
          "metadata": {},
          "output_type": "display_data"
        }
      ],
      "source": [
        "# Calculando os escores-z das colunas numéricas\n",
        "tabela_z = dados.select_dtypes(include='number').apply(stats.zscore)\n",
        "print('Tabela com colunas substituídas pelos escores-z:')\n",
        "display(tabela_z)"
      ]
    },
    {
      "cell_type": "code",
      "execution_count": 29,
      "metadata": {
        "id": "RZbHUMgF_Vbq"
      },
      "outputs": [
        {
          "name": "stdout",
          "output_type": "stream",
          "text": [
            "Tabela orignal + escores-z:\n"
          ]
        },
        {
          "data": {
            "text/html": [
              "<div>\n",
              "<style scoped>\n",
              "    .dataframe tbody tr th:only-of-type {\n",
              "        vertical-align: middle;\n",
              "    }\n",
              "\n",
              "    .dataframe tbody tr th {\n",
              "        vertical-align: top;\n",
              "    }\n",
              "\n",
              "    .dataframe thead th {\n",
              "        text-align: right;\n",
              "    }\n",
              "</style>\n",
              "<table border=\"1\" class=\"dataframe\">\n",
              "  <thead>\n",
              "    <tr style=\"text-align: right;\">\n",
              "      <th></th>\n",
              "      <th>Nome</th>\n",
              "      <th>Idade</th>\n",
              "      <th>Renda</th>\n",
              "      <th>Escore-z Idade</th>\n",
              "      <th>Escore-z Renda</th>\n",
              "    </tr>\n",
              "  </thead>\n",
              "  <tbody>\n",
              "    <tr>\n",
              "      <th>0</th>\n",
              "      <td>Nik</td>\n",
              "      <td>32</td>\n",
              "      <td>80000</td>\n",
              "      <td>-0.288493</td>\n",
              "      <td>0.978700</td>\n",
              "    </tr>\n",
              "    <tr>\n",
              "      <th>1</th>\n",
              "      <td>Kate</td>\n",
              "      <td>30</td>\n",
              "      <td>90000</td>\n",
              "      <td>-0.413925</td>\n",
              "      <td>1.304934</td>\n",
              "    </tr>\n",
              "    <tr>\n",
              "      <th>2</th>\n",
              "      <td>Joe</td>\n",
              "      <td>67</td>\n",
              "      <td>45000</td>\n",
              "      <td>1.906565</td>\n",
              "      <td>-0.163117</td>\n",
              "    </tr>\n",
              "    <tr>\n",
              "      <th>3</th>\n",
              "      <td>Mitch</td>\n",
              "      <td>34</td>\n",
              "      <td>23000</td>\n",
              "      <td>-0.163061</td>\n",
              "      <td>-0.880830</td>\n",
              "    </tr>\n",
              "    <tr>\n",
              "      <th>4</th>\n",
              "      <td>Alana</td>\n",
              "      <td>20</td>\n",
              "      <td>12000</td>\n",
              "      <td>-1.041085</td>\n",
              "      <td>-1.239687</td>\n",
              "    </tr>\n",
              "  </tbody>\n",
              "</table>\n",
              "</div>"
            ],
            "text/plain": [
              "    Nome  Idade  Renda  Escore-z Idade  Escore-z Renda\n",
              "0    Nik     32  80000       -0.288493        0.978700\n",
              "1   Kate     30  90000       -0.413925        1.304934\n",
              "2    Joe     67  45000        1.906565       -0.163117\n",
              "3  Mitch     34  23000       -0.163061       -0.880830\n",
              "4  Alana     20  12000       -1.041085       -1.239687"
            ]
          },
          "metadata": {},
          "output_type": "display_data"
        }
      ],
      "source": [
        "# Agregando novas colunas com os escores-z\n",
        "dados['Escore-z Idade'] = stats.zscore(dados['Idade'])\n",
        "dados['Escore-z Renda'] = stats.zscore(dados['Renda'])\n",
        "print('Tabela orignal + escores-z:')\n",
        "display(dados)"
      ]
    }
  ],
  "metadata": {
    "colab": {
      "provenance": []
    },
    "kernelspec": {
      "display_name": "Python 3",
      "name": "python3"
    },
    "language_info": {
      "codemirror_mode": {
        "name": "ipython",
        "version": 3
      },
      "file_extension": ".py",
      "mimetype": "text/x-python",
      "name": "python",
      "nbconvert_exporter": "python",
      "pygments_lexer": "ipython3",
      "version": "3.10.12"
    }
  },
  "nbformat": 4,
  "nbformat_minor": 0
}
