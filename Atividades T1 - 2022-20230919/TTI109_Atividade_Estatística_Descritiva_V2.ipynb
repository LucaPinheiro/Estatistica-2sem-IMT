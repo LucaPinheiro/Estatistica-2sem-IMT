{
  "cells": [
    {
      "cell_type": "markdown",
      "metadata": {
        "id": "QEH_7FvGl7wm"
      },
      "source": [
        "# TTI109 - Atividade: Estatística Descritiva\n",
        "## Onde é mais caro viver? Gotham City ou Metrópolis?\n",
        "Sua equipe deve responder a essa pergunta com base em dados acerca de aluguéis praticados em diversos pontos das duas cidades, em vários tipos de residências. As informações reúnem a área dos imóveis, os impostos, seguros e aluguéis mensais.\n",
        "\n",
        "Faça o upload do arquivo `alugueis.csv`, execute o código abaixo e verifique o formato do conjunto de dados."
      ]
    },
    {
      "cell_type": "code",
      "execution_count": 1,
      "metadata": {
        "id": "zkRcdkkULvOz"
      },
      "outputs": [
        {
          "data": {
            "text/html": [
              "<div>\n",
              "<style scoped>\n",
              "    .dataframe tbody tr th:only-of-type {\n",
              "        vertical-align: middle;\n",
              "    }\n",
              "\n",
              "    .dataframe tbody tr th {\n",
              "        vertical-align: top;\n",
              "    }\n",
              "\n",
              "    .dataframe thead th {\n",
              "        text-align: right;\n",
              "    }\n",
              "</style>\n",
              "<table border=\"1\" class=\"dataframe\">\n",
              "  <thead>\n",
              "    <tr style=\"text-align: right;\">\n",
              "      <th></th>\n",
              "      <th>Cidade</th>\n",
              "      <th>Área</th>\n",
              "      <th>Impostos</th>\n",
              "      <th>Seguro</th>\n",
              "      <th>Total</th>\n",
              "    </tr>\n",
              "  </thead>\n",
              "  <tbody>\n",
              "    <tr>\n",
              "      <th>0</th>\n",
              "      <td>Gotham</td>\n",
              "      <td>240</td>\n",
              "      <td>1000</td>\n",
              "      <td>121</td>\n",
              "      <td>9121</td>\n",
              "    </tr>\n",
              "    <tr>\n",
              "      <th>1</th>\n",
              "      <td>Metrópolis</td>\n",
              "      <td>64</td>\n",
              "      <td>122</td>\n",
              "      <td>11</td>\n",
              "      <td>1493</td>\n",
              "    </tr>\n",
              "    <tr>\n",
              "      <th>2</th>\n",
              "      <td>Gotham</td>\n",
              "      <td>73</td>\n",
              "      <td>150</td>\n",
              "      <td>16</td>\n",
              "      <td>2116</td>\n",
              "    </tr>\n",
              "    <tr>\n",
              "      <th>3</th>\n",
              "      <td>Gotham</td>\n",
              "      <td>19</td>\n",
              "      <td>41</td>\n",
              "      <td>16</td>\n",
              "      <td>1257</td>\n",
              "    </tr>\n",
              "    <tr>\n",
              "      <th>4</th>\n",
              "      <td>Gotham</td>\n",
              "      <td>13</td>\n",
              "      <td>42</td>\n",
              "      <td>28</td>\n",
              "      <td>2270</td>\n",
              "    </tr>\n",
              "    <tr>\n",
              "      <th>5</th>\n",
              "      <td>Gotham</td>\n",
              "      <td>55</td>\n",
              "      <td>375</td>\n",
              "      <td>64</td>\n",
              "      <td>7389</td>\n",
              "    </tr>\n",
              "    <tr>\n",
              "      <th>6</th>\n",
              "      <td>Gotham</td>\n",
              "      <td>55</td>\n",
              "      <td>67</td>\n",
              "      <td>17</td>\n",
              "      <td>1984</td>\n",
              "    </tr>\n",
              "    <tr>\n",
              "      <th>7</th>\n",
              "      <td>Gotham</td>\n",
              "      <td>82</td>\n",
              "      <td>109</td>\n",
              "      <td>26</td>\n",
              "      <td>2963</td>\n",
              "    </tr>\n",
              "    <tr>\n",
              "      <th>8</th>\n",
              "      <td>Gotham</td>\n",
              "      <td>32</td>\n",
              "      <td>0</td>\n",
              "      <td>37</td>\n",
              "      <td>3470</td>\n",
              "    </tr>\n",
              "    <tr>\n",
              "      <th>9</th>\n",
              "      <td>Metrópolis</td>\n",
              "      <td>60</td>\n",
              "      <td>20</td>\n",
              "      <td>10</td>\n",
              "      <td>1230</td>\n",
              "    </tr>\n",
              "  </tbody>\n",
              "</table>\n",
              "</div>"
            ],
            "text/plain": [
              "       Cidade  Área  Impostos  Seguro  Total\n",
              "0      Gotham   240      1000     121   9121\n",
              "1  Metrópolis    64       122      11   1493\n",
              "2      Gotham    73       150      16   2116\n",
              "3      Gotham    19        41      16   1257\n",
              "4      Gotham    13        42      28   2270\n",
              "5      Gotham    55       375      64   7389\n",
              "6      Gotham    55        67      17   1984\n",
              "7      Gotham    82       109      26   2963\n",
              "8      Gotham    32         0      37   3470\n",
              "9  Metrópolis    60        20      10   1230"
            ]
          },
          "execution_count": 1,
          "metadata": {},
          "output_type": "execute_result"
        }
      ],
      "source": [
        "import pandas as pd\n",
        "import matplotlib.pyplot as plt\n",
        "\n",
        "# Importação dos dados\n",
        "casas = pd.read_csv('alugueis.csv')\n",
        "\n",
        "# Inspecção das 10 primeiras linhas do DataFrame\n",
        "casas.head(10)"
      ]
    },
    {
      "cell_type": "markdown",
      "metadata": {
        "id": "seh5LJAhoFtw"
      },
      "source": [
        "## Distribuição dos seguros residenciais\n",
        "Construa histogramas para a distribuição de seguros residenciais em cada uma das cidades. A separação dos dados por cidade já está codificada nos DataFrames `casas_Gotham` e `casas_Met`.\n",
        "\n",
        "Além disso, nos histogramas aplique:\n",
        "\n",
        "*   Limite inferior da primeira classe: $0$\n",
        "*   Limite superior da última classe: $170$\n",
        "*   Amplitude das classes: $10$\n",
        "*   Eixo horizontal calibrado nos pontos médios das classes\n",
        "\n",
        "\n",
        "\n",
        "\n",
        "\n"
      ]
    },
    {
      "cell_type": "code",
      "execution_count": 2,
      "metadata": {
        "id": "-kYauBgejS2n"
      },
      "outputs": [
        {
          "data": {
            "image/png": "[encoded data removed]",
            "text/plain": [
              "<Figure size 1000x600 with 1 Axes>"
            ]
          },
          "metadata": {},
          "output_type": "display_data"
        }
      ],
      "source": [
        "## Histograma de seguros - Gotham City\n",
        "\n",
        "# Escolhendo a cidade de Gotham\n",
        "casas_Gotham = casas.loc[casas['Cidade']=='Gotham']\n",
        "\n",
        "# Constantes para construção das classes\n",
        "MIN = 0\n",
        "MAX = 170\n",
        "AMP = 10\n",
        "TAM_FIG = (10, 6)\n",
        "\n",
        "# Determinação das classes\n",
        "classes = pd.interval_range(start=MIN, end=MAX, freq=AMP)\n",
        "\n",
        "# Pontos médios das classes\n",
        "medios = [classe.mid for classe in classes]\n",
        "\n",
        "# Histograma Gotham\n",
        "hist_seg_Gotham = casas_Gotham['Seguro'].hist(bins=[classe.left for classe in classes]+\n",
        "                                              [classes[-1].right],\n",
        "                                              color='green', edgecolor='black',\n",
        "                                              grid=False, figsize=TAM_FIG)\n",
        "\n",
        "# Escalas dos eixos dos histogramas\n",
        "eixo_x = medios\n",
        "\n",
        "# Atributos do histograma\n",
        "hist_seg_Gotham.set(title='Seguros residenciais em Gotham City',\n",
        "                    xlabel='Seguro', ylabel='Frequência',\n",
        "                    xticks=eixo_x)\n",
        "plt.show()"
      ]
    },
    {
      "cell_type": "code",
      "execution_count": 4,
      "metadata": {
        "id": "RIEI6c9foq4I"
      },
      "outputs": [
        {
          "data": {
            "image/png": "[encoded data removed]",
            "text/plain": [
              "<Figure size 1000x600 with 1 Axes>"
            ]
          },
          "metadata": {},
          "output_type": "display_data"
        }
      ],
      "source": [
        "## Histograma de seguros - Metrópolis\n",
        "\n",
        "# Escolhendo a cidade de Metrópolis\n",
        "casas_Met = casas.loc[casas['Cidade']=='Metrópolis']\n",
        "\n",
        "# Constantes para construção das classes\n",
        "MIN = 0\n",
        "MAX = 170\n",
        "AMP = 10\n",
        "TAM_FIG = (10, 6)\n",
        "\n",
        "# Determinação das classes\n",
        "classes = pd.interval_range(start=MIN, end=MAX, freq=AMP)\n",
        "\n",
        "# Pontos médios das classes\n",
        "medios = [classe.mid for classe in classes]\n",
        "\n",
        "# Histograma Metrópolis\n",
        "hist_seg_Met = casas_Met['Seguro'].hist(bins=[classe.left for classe in classes]+\n",
        "                                              [classes[-1].right],\n",
        "                                              color='green', edgecolor='black',\n",
        "                                              grid=False, figsize=TAM_FIG)\n",
        "\n",
        "# Escalas dos eixos dos histogramas\n",
        "eixo_x = medios\n",
        "\n",
        "# Atributos do histograma\n",
        "hist_seg_Met.set(title='Seguros residenciais em Metrópolis',\n",
        "                 xlabel='Seguro', ylabel='Frequência',\n",
        "                 xticks=medios)\n",
        "plt.show()"
      ]
    },
    {
      "cell_type": "markdown",
      "metadata": {
        "id": "gCycTH0Qql-1"
      },
      "source": [
        "## Responda:\n",
        "Quais as duas classes mais frequentes em cada histograma?  \n"
      ]
    },
    {
      "cell_type": "code",
      "execution_count": 5,
      "metadata": {
        "id": "V6jE1arYdQ4u"
      },
      "outputs": [
        {
          "name": "stdout",
          "output_type": "stream",
          "text": [
            "Gotham: 25; Metrópolis: 15\n"
          ]
        }
      ],
      "source": [
        "resp_1 = \"Gotham: 25; Metrópolis: 15\" # @param {type:\"string\"}\n",
        "print(resp_1)"
      ]
    },
    {
      "cell_type": "markdown",
      "metadata": {
        "id": "V6i00uZ0dNe-"
      },
      "source": [
        "Qual cidade deve ter o seguro médio mais caro? Por quê?\n"
      ]
    },
    {
      "cell_type": "code",
      "execution_count": 6,
      "metadata": {
        "id": "QR5_L8-1dtrn"
      },
      "outputs": [
        {
          "name": "stdout",
          "output_type": "stream",
          "text": [
            "Gotham, pois as frequências em gerais são maiores e o ponto médio é de um valor maior\n"
          ]
        }
      ],
      "source": [
        "resp_2 = \"Gotham, pois as frequências em gerais são maiores e o ponto médio é de um valor maior\" # @param {type:\"string\"}\n",
        "print(resp_2)"
      ]
    },
    {
      "cell_type": "markdown",
      "metadata": {
        "id": "P1rEuoCTrmQA"
      },
      "source": [
        "# Medidas centrais e de variação das distribuições de aluguéis\n",
        "Calcule as medidas centrais e de variação das distribuições de aluguéis em cada cidade (coluna `Total` dos `DataFrames` `casas_Gotham` e `casas_Met`). Use o método `agg` para calcular as medidas necessárias."
      ]
    },
    {
      "cell_type": "code",
      "execution_count": 8,
      "metadata": {
        "id": "nc5ZOOeprd-Q"
      },
      "outputs": [
        {
          "name": "stdout",
          "output_type": "stream",
          "text": [
            "**Gotham City**\n"
          ]
        },
        {
          "data": {
            "text/plain": [
              "mean      4679.0\n",
              "median    3959.0\n",
              "std       2755.0\n",
              "Name: Total, dtype: float64"
            ]
          },
          "metadata": {},
          "output_type": "display_data"
        }
      ],
      "source": [
        "# Medidas centrais e de variação para Gotham City\n",
        "print('**Gotham City**')\n",
        "est_Gotham = round(casas_Gotham['Total'].agg(['mean', 'median', 'std']))\n",
        "display(est_Gotham)"
      ]
    },
    {
      "cell_type": "code",
      "execution_count": 11,
      "metadata": {
        "id": "7P4InD-CgXR-"
      },
      "outputs": [
        {
          "name": "stdout",
          "output_type": "stream",
          "text": [
            "**Metrópolis**\n"
          ]
        },
        {
          "data": {
            "text/plain": [
              "mean      3005.0\n",
              "median    2197.0\n",
              "std       2229.0\n",
              "Name: Total, dtype: float64"
            ]
          },
          "metadata": {},
          "output_type": "display_data"
        }
      ],
      "source": [
        "# Medidas centrais e de variação para Metrópolis\n",
        "print('**Metrópolis**')\n",
        "est_Met = round(casas_Met['Total'].agg(['mean', 'median', 'std']))\n",
        "display(est_Met)"
      ]
    },
    {
      "cell_type": "markdown",
      "metadata": {
        "id": "QnIzstG6s-7d"
      },
      "source": [
        "## Responda:\n",
        "Qual das cidades apresenta o aluguel médio mais caro?"
      ]
    },
    {
      "cell_type": "code",
      "execution_count": 12,
      "metadata": {
        "id": "KOz9jXQxLOZf"
      },
      "outputs": [
        {
          "name": "stdout",
          "output_type": "stream",
          "text": [
            "Gotham city\n"
          ]
        }
      ],
      "source": [
        "resp_3 = \"Gotham city\" # @param {type:\"string\"}\n",
        "print(resp_3)\n"
      ]
    },
    {
      "cell_type": "markdown",
      "metadata": {
        "id": "yB2WgypzLMYV"
      },
      "source": [
        "Qual das cidades apresenta o aluguel com maior mediana?"
      ]
    },
    {
      "cell_type": "code",
      "execution_count": null,
      "metadata": {
        "id": "kdyOOhziL4RG"
      },
      "outputs": [],
      "source": [
        "resp_4 = \"Gotham.\" # @param {type:\"string\"}\n",
        "print(resp_4)\n"
      ]
    },
    {
      "cell_type": "markdown",
      "metadata": {
        "id": "sR7dnvM5Lx7W"
      },
      "source": [
        "Qual das cidades apresenta alugueis com menor desvio padrão?"
      ]
    },
    {
      "cell_type": "code",
      "execution_count": null,
      "metadata": {
        "id": "BMBgATk0MUL2"
      },
      "outputs": [],
      "source": [
        "resp_5 = \"Metrópoles\" # @param {type:\"string\"}\n",
        "print(resp_5)"
      ]
    },
    {
      "cell_type": "markdown",
      "metadata": {
        "id": "0z4ZmRV9tWqO"
      },
      "source": [
        "## Quartis da distribuição de impostos residenciais\n",
        "Determine os quartis para a distribuição de impostos residenciais de cada cidade. A seguir, construa os respectivos diagramas boxplot."
      ]
    },
    {
      "cell_type": "code",
      "execution_count": 14,
      "metadata": {
        "id": "-mrVUhfGtPvs"
      },
      "outputs": [
        {
          "name": "stdout",
          "output_type": "stream",
          "text": [
            "**Gotham City**\n"
          ]
        },
        {
          "data": {
            "text/plain": [
              "0.25     19.25\n",
              "0.50    126.00\n",
              "0.75    340.75\n",
              "Name: Impostos, dtype: float64"
            ]
          },
          "metadata": {},
          "output_type": "display_data"
        },
        {
          "name": "stdout",
          "output_type": "stream",
          "text": [
            "**Metrópolis**\n"
          ]
        },
        {
          "data": {
            "text/plain": [
              "0.25     34.0\n",
              "0.50     76.0\n",
              "0.75    176.0\n",
              "Name: Impostos, dtype: float64"
            ]
          },
          "metadata": {},
          "output_type": "display_data"
        },
        {
          "data": {
            "image/png": "[encoded data removed]",
            "text/plain": [
              "<Figure size 1000x600 with 1 Axes>"
            ]
          },
          "metadata": {},
          "output_type": "display_data"
        }
      ],
      "source": [
        "# Lista dos quartis\n",
        "lista_quartis = [0.25, 0.5, 0.75]\n",
        "\n",
        "# Quartis dos impostos em Gotham City\n",
        "print('**Gotham City**')\n",
        "imp_Gotham = casas_Gotham['Impostos'].quantile(lista_quartis)\n",
        "display(imp_Gotham)\n",
        "\n",
        "# Quartis dos impostos em Metrópolis\n",
        "print('**Metrópolis**')\n",
        "imp_Met = casas_Met['Impostos'].quantile(lista_quartis)\n",
        "display(imp_Met)\n",
        "\n",
        "# Boxplots\n",
        "casas.boxplot(by='Cidade', column=['Impostos'], color='red',\n",
        "              figsize=TAM_FIG, showmeans=True, whis=1.5)\n",
        "plt.title('Distribuição dos impostos residenciais')\n",
        "plt.suptitle('')\n",
        "plt.ylabel('Imposto')\n",
        "plt.show()"
      ]
    },
    {
      "cell_type": "markdown",
      "metadata": {
        "id": "SgIdR6Esw5G-"
      },
      "source": [
        "## Responda:\n",
        "Com base nos diagramas boxplot, classifique a distribuição dos impostos em cada cidade como simétricas, assimétricas à esquerda ou assimétricas à direita. Por quê?"
      ]
    },
    {
      "cell_type": "code",
      "execution_count": null,
      "metadata": {
        "id": "faWDKNzpwdvv"
      },
      "outputs": [],
      "source": [
        "resp_6 = \"Assimétrica à direita pois a média é maior que a mediana e a moda\" # @param {type:\"string\"}\n",
        "print(resp_6)"
      ]
    },
    {
      "cell_type": "markdown",
      "metadata": {
        "id": "ttFNowPcyCiJ"
      },
      "source": [
        "## Conclusão\n",
        "E então? Quem gasta mais com aluguel: Batman ou Superman?"
      ]
    },
    {
      "cell_type": "code",
      "execution_count": 15,
      "metadata": {
        "id": "In4e-czKyxv9"
      },
      "outputs": [
        {
          "name": "stdout",
          "output_type": "stream",
          "text": [
            "Batman\n"
          ]
        }
      ],
      "source": [
        "resp_7 = \"Batman\" # @param {type:\"string\"}\n",
        "print(resp_7)"
      ]
    },
    {
      "cell_type": "code",
      "execution_count": null,
      "metadata": {},
      "outputs": [],
      "source": []
    }
  ],
  "metadata": {
    "colab": {
      "provenance": []
    },
    "kernelspec": {
      "display_name": "Python 3",
      "name": "python3"
    },
    "language_info": {
      "codemirror_mode": {
        "name": "ipython",
        "version": 3
      },
      "file_extension": ".py",
      "mimetype": "text/x-python",
      "name": "python",
      "nbconvert_exporter": "python",
      "pygments_lexer": "ipython3",
      "version": "3.10.12"
    }
  },
  "nbformat": 4,
  "nbformat_minor": 0
}
