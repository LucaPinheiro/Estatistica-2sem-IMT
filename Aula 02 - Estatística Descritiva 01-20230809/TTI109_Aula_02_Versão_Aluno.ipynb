{
  "cells": [
    {
      "cell_type": "markdown",
      "metadata": {
        "id": "jzA1EqeMnf7b"
      },
      "source": [
        "# **TTI109 - Estatística**\n",
        "# **Aula 02 - Estatística Descritiva 01**\n",
        "\n",
        "Nessa aula vamos aprender a construir:\n",
        "\n",
        "* Classes para descrever uma distribuição de dados;\n",
        "* Tabelas de frequências;\n",
        "* Histogramas;\n",
        "* Polígonos de frequências."
      ]
    },
    {
      "cell_type": "markdown",
      "metadata": {
        "id": "S22HyBuOrs_2"
      },
      "source": [
        "## **Construindo uma distribuição de frequência com base em um conjunto de dados**\n",
        "\n",
        "O conjunto de dados a seguir lista os preços (em dólares) de 30 aparelhos\n",
        "GPS (global positioning system) portáteis.\n",
        "Construa uma distribuição de frequência com sete classes.\n",
        "\n",
        "![Notebook - Aula 02.png](data:image/png;base64,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)"
      ]
    },
    {
      "cell_type": "code",
      "execution_count": 1,
      "metadata": {
        "id": "nvFEvDZgFqQ_"
      },
      "outputs": [
        {
          "name": "stdout",
          "output_type": "stream",
          "text": [
            "0     128\n",
            "1     100\n",
            "2     180\n",
            "3     150\n",
            "4     200\n",
            "5      90\n",
            "6     340\n",
            "7     105\n",
            "8      85\n",
            "9     270\n",
            "10    200\n",
            "11     65\n",
            "12    230\n",
            "13    150\n",
            "14    150\n",
            "15    120\n",
            "16    130\n",
            "17     80\n",
            "18    230\n",
            "19    200\n",
            "20    110\n",
            "21    126\n",
            "22    170\n",
            "23    132\n",
            "24    140\n",
            "25    112\n",
            "26     90\n",
            "27    340\n",
            "28    170\n",
            "29    190\n",
            "dtype: int64\n"
          ]
        }
      ],
      "source": [
        "import pandas as pd\n",
        "# Conjunto de dados\n",
        "data = pd.Series([128, 100, 180, 150, 200, 90, 340, 105, 85, 270,\n",
        "                  200, 65, 230, 150, 150, 120, 130, 80, 230, 200,\n",
        "                  110, 126, 170, 132, 140, 112, 90, 340, 170, 190])\n",
        "print(data)"
      ]
    },
    {
      "cell_type": "code",
      "execution_count": 2,
      "metadata": {
        "id": "c5Vy42INnb-7"
      },
      "outputs": [
        {
          "name": "stdout",
          "output_type": "stream",
          "text": [
            "Valor mínimo da distribuição = 65\n",
            "Valor máximo da distribuição = 340\n"
          ]
        }
      ],
      "source": [
        "# Valores máximo, mínimo e número de classes\n",
        "v_max = data.max()\n",
        "v_min = data.min()\n",
        "n_classes = 7\n",
        "print(f'Valor mínimo da distribuição = {v_min}')\n",
        "print(f'Valor máximo da distribuição = {v_max}')"
      ]
    },
    {
      "cell_type": "markdown",
      "metadata": {
        "id": "NuEmvSRLs5Fv"
      },
      "source": [
        "## **Distribuição de Frequências**\n",
        "\n",
        "O método `value_counts` registra a frequência de ocorrência dos dados em cada classe (o número de classes é dado pelo parâmetro `bins`). O método `sort_index` ordena os índices (classes) em ordem crescente."
      ]
    },
    {
      "cell_type": "code",
      "execution_count": 4,
      "metadata": {
        "id": "hT8UYuHEGmor"
      },
      "outputs": [
        {
          "name": "stdout",
          "output_type": "stream",
          "text": [
            "(64.72399999999999, 104.286]    6\n",
            "(104.286, 143.571]              9\n",
            "(143.571, 182.857]              6\n",
            "(182.857, 222.143]              4\n",
            "(222.143, 261.429]              2\n",
            "(261.429, 300.714]              1\n",
            "(300.714, 340.0]                2\n",
            "Name: count, dtype: int64\n"
          ]
        }
      ],
      "source": [
        "dist_freq = data.value_counts(bins=7).sort_index()\n",
        "print(dist_freq)"
      ]
    },
    {
      "cell_type": "markdown",
      "metadata": {
        "id": "6NsTOSm0yfYQ"
      },
      "source": [
        "Note que as classes da distribuição de frequências não estão definidas de forma \"amigável\". Vamos alterar a definição dos intervalos de classe usando o método `interval_range`."
      ]
    },
    {
      "cell_type": "code",
      "execution_count": 7,
      "metadata": {
        "id": "KBmByV59cWxO"
      },
      "outputs": [
        {
          "name": "stdout",
          "output_type": "stream",
          "text": [
            "                              count\n",
            "(64.72399999999999, 104.286]      6\n",
            "(104.286, 143.571]                9\n",
            "(143.571, 182.857]                6\n",
            "(182.857, 222.143]                4\n",
            "(222.143, 261.429]                2\n",
            "(261.429, 300.714]                1\n",
            "(300.714, 340.0]                  2\n"
          ]
        }
      ],
      "source": [
        "# Reconfiguração do conjunto de dados: Pandas Series para Pandas DataFrame\n",
        "nova_dist_freq = pd.DataFrame(dist_freq)\n",
        "display(nova_dist_freq)"
      ]
    },
    {
      "cell_type": "code",
      "execution_count": 6,
      "metadata": {
        "id": "JijN1PABocVf"
      },
      "outputs": [
        {
          "data": {
            "text/html": [
              "<div>\n",
              "<style scoped>\n",
              "    .dataframe tbody tr th:only-of-type {\n",
              "        vertical-align: middle;\n",
              "    }\n",
              "\n",
              "    .dataframe tbody tr th {\n",
              "        vertical-align: top;\n",
              "    }\n",
              "\n",
              "    .dataframe thead th {\n",
              "        text-align: right;\n",
              "    }\n",
              "</style>\n",
              "<table border=\"1\" class=\"dataframe\">\n",
              "  <thead>\n",
              "    <tr style=\"text-align: right;\">\n",
              "      <th></th>\n",
              "      <th>index</th>\n",
              "      <th>count</th>\n",
              "    </tr>\n",
              "  </thead>\n",
              "  <tbody>\n",
              "    <tr>\n",
              "      <th>0</th>\n",
              "      <td>(64.72399999999999, 104.286]</td>\n",
              "      <td>6</td>\n",
              "    </tr>\n",
              "    <tr>\n",
              "      <th>1</th>\n",
              "      <td>(104.286, 143.571]</td>\n",
              "      <td>9</td>\n",
              "    </tr>\n",
              "    <tr>\n",
              "      <th>2</th>\n",
              "      <td>(143.571, 182.857]</td>\n",
              "      <td>6</td>\n",
              "    </tr>\n",
              "    <tr>\n",
              "      <th>3</th>\n",
              "      <td>(182.857, 222.143]</td>\n",
              "      <td>4</td>\n",
              "    </tr>\n",
              "    <tr>\n",
              "      <th>4</th>\n",
              "      <td>(222.143, 261.429]</td>\n",
              "      <td>2</td>\n",
              "    </tr>\n",
              "    <tr>\n",
              "      <th>5</th>\n",
              "      <td>(261.429, 300.714]</td>\n",
              "      <td>1</td>\n",
              "    </tr>\n",
              "    <tr>\n",
              "      <th>6</th>\n",
              "      <td>(300.714, 340.0]</td>\n",
              "      <td>2</td>\n",
              "    </tr>\n",
              "  </tbody>\n",
              "</table>\n",
              "</div>"
            ],
            "text/plain": [
              "                          index  count\n",
              "0  (64.72399999999999, 104.286]      6\n",
              "1            (104.286, 143.571]      9\n",
              "2            (143.571, 182.857]      6\n",
              "3            (182.857, 222.143]      4\n",
              "4            (222.143, 261.429]      2\n",
              "5            (261.429, 300.714]      1\n",
              "6              (300.714, 340.0]      2"
            ]
          },
          "metadata": {},
          "output_type": "display_data"
        }
      ],
      "source": [
        "# Resetando os índices do DataFrame\n",
        "nova_dist_freq = nova_dist_freq.reset_index()\n",
        "display(nova_dist_freq)"
      ]
    },
    {
      "cell_type": "code",
      "execution_count": null,
      "metadata": {
        "id": "eAdeCwsvop3Q"
      },
      "outputs": [],
      "source": [
        "# Renomeando as colunas do DataFrame\n",
        "\n",
        "display(nova_dist_freq)"
      ]
    },
    {
      "cell_type": "code",
      "execution_count": 12,
      "metadata": {
        "id": "Ikp9sfqno15R"
      },
      "outputs": [
        {
          "name": "stdout",
          "output_type": "stream",
          "text": [
            "IntervalIndex([(65, 104], (104, 143], (143, 182], (182, 221], (221, 260], (260, 299], (299, 338]], dtype='interval[int64, right]')\n"
          ]
        }
      ],
      "source": [
        "# Cálculo da amplitude de classe, com respectivos intervalos de classe\n",
        "amplitude = round((v_max-v_min)/n_classes)\n",
        "intervalos = pd.interval_range(start=v_min, end=v_max, freq=amplitude)\n",
        "print(intervalos)"
      ]
    },
    {
      "cell_type": "code",
      "execution_count": 13,
      "metadata": {
        "id": "MC5uCrjTo-qa"
      },
      "outputs": [
        {
          "data": {
            "text/html": [
              "<div>\n",
              "<style scoped>\n",
              "    .dataframe tbody tr th:only-of-type {\n",
              "        vertical-align: middle;\n",
              "    }\n",
              "\n",
              "    .dataframe tbody tr th {\n",
              "        vertical-align: top;\n",
              "    }\n",
              "\n",
              "    .dataframe thead th {\n",
              "        text-align: right;\n",
              "    }\n",
              "</style>\n",
              "<table border=\"1\" class=\"dataframe\">\n",
              "  <thead>\n",
              "    <tr style=\"text-align: right;\">\n",
              "      <th></th>\n",
              "      <th>count</th>\n",
              "      <th>Classe</th>\n",
              "    </tr>\n",
              "  </thead>\n",
              "  <tbody>\n",
              "    <tr>\n",
              "      <th>(64.72399999999999, 104.286]</th>\n",
              "      <td>6</td>\n",
              "      <td>(65, 104]</td>\n",
              "    </tr>\n",
              "    <tr>\n",
              "      <th>(104.286, 143.571]</th>\n",
              "      <td>9</td>\n",
              "      <td>(104, 143]</td>\n",
              "    </tr>\n",
              "    <tr>\n",
              "      <th>(143.571, 182.857]</th>\n",
              "      <td>6</td>\n",
              "      <td>(143, 182]</td>\n",
              "    </tr>\n",
              "    <tr>\n",
              "      <th>(182.857, 222.143]</th>\n",
              "      <td>4</td>\n",
              "      <td>(182, 221]</td>\n",
              "    </tr>\n",
              "    <tr>\n",
              "      <th>(222.143, 261.429]</th>\n",
              "      <td>2</td>\n",
              "      <td>(221, 260]</td>\n",
              "    </tr>\n",
              "    <tr>\n",
              "      <th>(261.429, 300.714]</th>\n",
              "      <td>1</td>\n",
              "      <td>(260, 299]</td>\n",
              "    </tr>\n",
              "    <tr>\n",
              "      <th>(300.714, 340.0]</th>\n",
              "      <td>2</td>\n",
              "      <td>(299, 338]</td>\n",
              "    </tr>\n",
              "  </tbody>\n",
              "</table>\n",
              "</div>"
            ],
            "text/plain": [
              "                              count      Classe\n",
              "(64.72399999999999, 104.286]      6   (65, 104]\n",
              "(104.286, 143.571]                9  (104, 143]\n",
              "(143.571, 182.857]                6  (143, 182]\n",
              "(182.857, 222.143]                4  (182, 221]\n",
              "(222.143, 261.429]                2  (221, 260]\n",
              "(261.429, 300.714]                1  (260, 299]\n",
              "(300.714, 340.0]                  2  (299, 338]"
            ]
          },
          "metadata": {},
          "output_type": "display_data"
        }
      ],
      "source": [
        "# Atribuição dos intervalos para a coluna Classe\n",
        "nova_dist_freq['Classe'] = intervalos\n",
        "display(nova_dist_freq)"
      ]
    },
    {
      "cell_type": "markdown",
      "metadata": {
        "id": "G_3tSrg-QhCy"
      },
      "source": [
        "## **Caracterísiticas adicionais da distribuição**\n",
        "\n",
        "Vamos adicionar as colunas que exibem os pontos médios, a frequência relativa e a frequência acumnulada de cada classe da distribuição."
      ]
    },
    {
      "cell_type": "code",
      "execution_count": 14,
      "metadata": {
        "id": "QVIRSTeyzJqK"
      },
      "outputs": [
        {
          "name": "stdout",
          "output_type": "stream",
          "text": [
            "[84.5, 123.5, 162.5, 201.5, 240.5, 279.5, 318.5]\n"
          ]
        }
      ],
      "source": [
        "# Cálculo dos pontos médios das classe\n",
        "pts_medios = [inter.mid for inter in intervalos]\n",
        "print(pts_medios)"
      ]
    },
    {
      "cell_type": "code",
      "execution_count": null,
      "metadata": {
        "id": "hHo8HRhupUyL"
      },
      "outputs": [],
      "source": [
        "# Inserção da coluna Pontos médios\n",
        "nova_dist_freq['Pontos médios'] = pts_medios\n",
        "display(nova_dist_freq)"
      ]
    },
    {
      "cell_type": "code",
      "execution_count": 19,
      "metadata": {
        "id": "W21wRUl2phhl"
      },
      "outputs": [
        {
          "ename": "KeyError",
          "evalue": "'Frequência'",
          "output_type": "error",
          "traceback": [
            "\u001b[0;31m---------------------------------------------------------------------------\u001b[0m",
            "\u001b[0;31mKeyError\u001b[0m                                  Traceback (most recent call last)",
            "File \u001b[0;32m~/.local/lib/python3.10/site-packages/pandas/core/indexes/base.py:3653\u001b[0m, in \u001b[0;36mIndex.get_loc\u001b[0;34m(self, key)\u001b[0m\n\u001b[1;32m   3652\u001b[0m \u001b[39mtry\u001b[39;00m:\n\u001b[0;32m-> 3653\u001b[0m     \u001b[39mreturn\u001b[39;00m \u001b[39mself\u001b[39;49m\u001b[39m.\u001b[39;49m_engine\u001b[39m.\u001b[39;49mget_loc(casted_key)\n\u001b[1;32m   3654\u001b[0m \u001b[39mexcept\u001b[39;00m \u001b[39mKeyError\u001b[39;00m \u001b[39mas\u001b[39;00m err:\n",
            "File \u001b[0;32m~/.local/lib/python3.10/site-packages/pandas/_libs/index.pyx:147\u001b[0m, in \u001b[0;36mpandas._libs.index.IndexEngine.get_loc\u001b[0;34m()\u001b[0m\n",
            "File \u001b[0;32m~/.local/lib/python3.10/site-packages/pandas/_libs/index.pyx:176\u001b[0m, in \u001b[0;36mpandas._libs.index.IndexEngine.get_loc\u001b[0;34m()\u001b[0m\n",
            "File \u001b[0;32mpandas/_libs/hashtable_class_helper.pxi:7080\u001b[0m, in \u001b[0;36mpandas._libs.hashtable.PyObjectHashTable.get_item\u001b[0;34m()\u001b[0m\n",
            "File \u001b[0;32mpandas/_libs/hashtable_class_helper.pxi:7088\u001b[0m, in \u001b[0;36mpandas._libs.hashtable.PyObjectHashTable.get_item\u001b[0;34m()\u001b[0m\n",
            "\u001b[0;31mKeyError\u001b[0m: 'Frequência'",
            "\nThe above exception was the direct cause of the following exception:\n",
            "\u001b[0;31mKeyError\u001b[0m                                  Traceback (most recent call last)",
            "Cell \u001b[0;32mIn[19], line 3\u001b[0m\n\u001b[1;32m      1\u001b[0m \u001b[39m# Cálculo e inserção das colunas de frequência relativa e acumulada\u001b[39;00m\n\u001b[1;32m      2\u001b[0m observacoes \u001b[39m=\u001b[39m \u001b[39mlen\u001b[39m(data)\n\u001b[0;32m----> 3\u001b[0m nova_dist_freq[\u001b[39m'\u001b[39m\u001b[39mFrequência relativa\u001b[39m\u001b[39m'\u001b[39m] \u001b[39m=\u001b[39m nova_dist_freq[\u001b[39m'\u001b[39;49m\u001b[39mFrequência\u001b[39;49m\u001b[39m'\u001b[39;49m]\u001b[39m/\u001b[39mobservacoes\n\u001b[1;32m      4\u001b[0m nova_dist_freq[\u001b[39m'\u001b[39m\u001b[39mFrequência acumulada\u001b[39m\u001b[39m'\u001b[39m] \u001b[39m=\u001b[39m nova_dist_freq[\u001b[39m'\u001b[39m\u001b[39mFrequência\u001b[39m\u001b[39m'\u001b[39m]\u001b[39m.\u001b[39mcumsum()\n\u001b[1;32m      5\u001b[0m display(nova_dist_freq)\n",
            "File \u001b[0;32m~/.local/lib/python3.10/site-packages/pandas/core/frame.py:3761\u001b[0m, in \u001b[0;36mDataFrame.__getitem__\u001b[0;34m(self, key)\u001b[0m\n\u001b[1;32m   3759\u001b[0m \u001b[39mif\u001b[39;00m \u001b[39mself\u001b[39m\u001b[39m.\u001b[39mcolumns\u001b[39m.\u001b[39mnlevels \u001b[39m>\u001b[39m \u001b[39m1\u001b[39m:\n\u001b[1;32m   3760\u001b[0m     \u001b[39mreturn\u001b[39;00m \u001b[39mself\u001b[39m\u001b[39m.\u001b[39m_getitem_multilevel(key)\n\u001b[0;32m-> 3761\u001b[0m indexer \u001b[39m=\u001b[39m \u001b[39mself\u001b[39;49m\u001b[39m.\u001b[39;49mcolumns\u001b[39m.\u001b[39;49mget_loc(key)\n\u001b[1;32m   3762\u001b[0m \u001b[39mif\u001b[39;00m is_integer(indexer):\n\u001b[1;32m   3763\u001b[0m     indexer \u001b[39m=\u001b[39m [indexer]\n",
            "File \u001b[0;32m~/.local/lib/python3.10/site-packages/pandas/core/indexes/base.py:3655\u001b[0m, in \u001b[0;36mIndex.get_loc\u001b[0;34m(self, key)\u001b[0m\n\u001b[1;32m   3653\u001b[0m     \u001b[39mreturn\u001b[39;00m \u001b[39mself\u001b[39m\u001b[39m.\u001b[39m_engine\u001b[39m.\u001b[39mget_loc(casted_key)\n\u001b[1;32m   3654\u001b[0m \u001b[39mexcept\u001b[39;00m \u001b[39mKeyError\u001b[39;00m \u001b[39mas\u001b[39;00m err:\n\u001b[0;32m-> 3655\u001b[0m     \u001b[39mraise\u001b[39;00m \u001b[39mKeyError\u001b[39;00m(key) \u001b[39mfrom\u001b[39;00m \u001b[39merr\u001b[39;00m\n\u001b[1;32m   3656\u001b[0m \u001b[39mexcept\u001b[39;00m \u001b[39mTypeError\u001b[39;00m:\n\u001b[1;32m   3657\u001b[0m     \u001b[39m# If we have a listlike key, _check_indexing_error will raise\u001b[39;00m\n\u001b[1;32m   3658\u001b[0m     \u001b[39m#  InvalidIndexError. Otherwise we fall through and re-raise\u001b[39;00m\n\u001b[1;32m   3659\u001b[0m     \u001b[39m#  the TypeError.\u001b[39;00m\n\u001b[1;32m   3660\u001b[0m     \u001b[39mself\u001b[39m\u001b[39m.\u001b[39m_check_indexing_error(key)\n",
            "\u001b[0;31mKeyError\u001b[0m: 'Frequência'"
          ]
        }
      ],
      "source": [
        "# Cálculo e inserção das colunas de frequência relativa e acumulada\n",
        "observacoes = len(data)\n",
        "nova_dist_freq['Frequência relativa'] = nova_dist_freq['Frequência']/observacoes\n",
        "nova_dist_freq['Frequência acumulada'] = nova_dist_freq['Frequência'].cumsum()\n",
        "display(nova_dist_freq)"
      ]
    },
    {
      "cell_type": "markdown",
      "metadata": {
        "id": "7h73j8q5O-IY"
      },
      "source": [
        "## **Construção do histograma de frequências**\n",
        "\n",
        "O histograma é construído usando o método `hist` do `Pandas`. Diversas características do histograma, tais como as classes (parâmetro `bins`), cor das barras e marcações nos eixos vertical e horizontal são programáveis."
      ]
    },
    {
      "cell_type": "code",
      "execution_count": 1,
      "metadata": {
        "id": "uIPLkDwvBmlG"
      },
      "outputs": [
        {
          "ename": "NameError",
          "evalue": "name 'data' is not defined",
          "output_type": "error",
          "traceback": [
            "\u001b[0;31m---------------------------------------------------------------------------\u001b[0m",
            "\u001b[0;31mNameError\u001b[0m                                 Traceback (most recent call last)",
            "Cell \u001b[0;32mIn[1], line 4\u001b[0m\n\u001b[1;32m      1\u001b[0m \u001b[39mimport\u001b[39;00m \u001b[39mmatplotlib\u001b[39;00m\u001b[39m.\u001b[39;00m\u001b[39mpyplot\u001b[39;00m \u001b[39mas\u001b[39;00m \u001b[39mplt\u001b[39;00m\n\u001b[1;32m      3\u001b[0m \u001b[39m# Construção do histograma\u001b[39;00m\n\u001b[0;32m----> 4\u001b[0m histograma \u001b[39m=\u001b[39m data\u001b[39m.\u001b[39mhist(bins\u001b[39m=\u001b[39m[inter\u001b[39m.\u001b[39mleft \u001b[39mfor\u001b[39;00m inter \u001b[39min\u001b[39;00m intervalos]\u001b[39m+\u001b[39m[v_max],\n\u001b[1;32m      5\u001b[0m                        color\u001b[39m=\u001b[39m\u001b[39m'\u001b[39m\u001b[39mpurple\u001b[39m\u001b[39m'\u001b[39m, edgecolor\u001b[39m=\u001b[39m\u001b[39m'\u001b[39m\u001b[39mblack\u001b[39m\u001b[39m'\u001b[39m, grid\u001b[39m=\u001b[39m\u001b[39mFalse\u001b[39;00m)\n\u001b[1;32m      6\u001b[0m \u001b[39m# Inserção de atributos ao gráfico\u001b[39;00m\n",
            "\u001b[0;31mNameError\u001b[0m: name 'data' is not defined"
          ]
        }
      ],
      "source": [
        "import matplotlib.pyplot as plt\n",
        "\n",
        "# Construção do histograma\n",
        "histograma = data.hist(bins=[inter.left for inter in intervalos]+[v_max],\n",
        "                       color='purple', edgecolor='black', grid=False)\n",
        "# Inserção de atributos ao gráfico\n"
      ]
    },
    {
      "cell_type": "markdown",
      "metadata": {
        "id": "2gqzEE8Sp753"
      },
      "source": [
        "Vamos agora inserir a frequência observada no topo de cada barra. Embora opcional, essa é uma representação que facilita a visualização das frequências relativas. Apenas para diferenciar da representação anterior, vamos usar a cor verde para as barras."
      ]
    },
    {
      "cell_type": "code",
      "execution_count": 23,
      "metadata": {
        "id": "ONZq_bLHqMnn"
      },
      "outputs": [
        {
          "ename": "KeyError",
          "evalue": "'Pontos médios'",
          "output_type": "error",
          "traceback": [
            "\u001b[0;31m---------------------------------------------------------------------------\u001b[0m",
            "\u001b[0;31mKeyError\u001b[0m                                  Traceback (most recent call last)",
            "File \u001b[0;32m~/.local/lib/python3.10/site-packages/pandas/core/indexes/base.py:3653\u001b[0m, in \u001b[0;36mIndex.get_loc\u001b[0;34m(self, key)\u001b[0m\n\u001b[1;32m   3652\u001b[0m \u001b[39mtry\u001b[39;00m:\n\u001b[0;32m-> 3653\u001b[0m     \u001b[39mreturn\u001b[39;00m \u001b[39mself\u001b[39;49m\u001b[39m.\u001b[39;49m_engine\u001b[39m.\u001b[39;49mget_loc(casted_key)\n\u001b[1;32m   3654\u001b[0m \u001b[39mexcept\u001b[39;00m \u001b[39mKeyError\u001b[39;00m \u001b[39mas\u001b[39;00m err:\n",
            "File \u001b[0;32m~/.local/lib/python3.10/site-packages/pandas/_libs/index.pyx:147\u001b[0m, in \u001b[0;36mpandas._libs.index.IndexEngine.get_loc\u001b[0;34m()\u001b[0m\n",
            "File \u001b[0;32m~/.local/lib/python3.10/site-packages/pandas/_libs/index.pyx:176\u001b[0m, in \u001b[0;36mpandas._libs.index.IndexEngine.get_loc\u001b[0;34m()\u001b[0m\n",
            "File \u001b[0;32mpandas/_libs/hashtable_class_helper.pxi:7080\u001b[0m, in \u001b[0;36mpandas._libs.hashtable.PyObjectHashTable.get_item\u001b[0;34m()\u001b[0m\n",
            "File \u001b[0;32mpandas/_libs/hashtable_class_helper.pxi:7088\u001b[0m, in \u001b[0;36mpandas._libs.hashtable.PyObjectHashTable.get_item\u001b[0;34m()\u001b[0m\n",
            "\u001b[0;31mKeyError\u001b[0m: 'Pontos médios'",
            "\nThe above exception was the direct cause of the following exception:\n",
            "\u001b[0;31mKeyError\u001b[0m                                  Traceback (most recent call last)",
            "Cell \u001b[0;32mIn[23], line 8\u001b[0m\n\u001b[1;32m      2\u001b[0m histograma \u001b[39m=\u001b[39m data\u001b[39m.\u001b[39mhist(bins\u001b[39m=\u001b[39m[inter\u001b[39m.\u001b[39mleft \u001b[39mfor\u001b[39;00m inter \u001b[39min\u001b[39;00m intervalos]\u001b[39m+\u001b[39m[v_max],\n\u001b[1;32m      3\u001b[0m                        color\u001b[39m=\u001b[39m\u001b[39m'\u001b[39m\u001b[39mgreen\u001b[39m\u001b[39m'\u001b[39m, edgecolor\u001b[39m=\u001b[39m\u001b[39m'\u001b[39m\u001b[39mblack\u001b[39m\u001b[39m'\u001b[39m, grid\u001b[39m=\u001b[39m\u001b[39mFalse\u001b[39;00m)\n\u001b[1;32m      4\u001b[0m \u001b[39m# Inserção de atributos ao gráfico\u001b[39;00m\n\u001b[1;32m      5\u001b[0m histograma\u001b[39m.\u001b[39mset(xlabel\u001b[39m=\u001b[39m\u001b[39m'\u001b[39m\u001b[39mPreço [US$]\u001b[39m\u001b[39m'\u001b[39m,\n\u001b[1;32m      6\u001b[0m                ylabel\u001b[39m=\u001b[39m\u001b[39m'\u001b[39m\u001b[39mFrequência - Número de navegadores GPS\u001b[39m\u001b[39m'\u001b[39m,\n\u001b[1;32m      7\u001b[0m                title\u001b[39m=\u001b[39m\u001b[39m'\u001b[39m\u001b[39mDistribuição de frequências dos preços de GPS\u001b[39m\u001b[39m'\u001b[39m,\n\u001b[0;32m----> 8\u001b[0m                xticks\u001b[39m=\u001b[39mnova_dist_freq[\u001b[39m'\u001b[39;49m\u001b[39mPontos médios\u001b[39;49m\u001b[39m'\u001b[39;49m],\n\u001b[1;32m      9\u001b[0m                yticks\u001b[39m=\u001b[39m\u001b[39mrange\u001b[39m(\u001b[39m0\u001b[39m,nova_dist_freq[\u001b[39m'\u001b[39m\u001b[39mFrequência\u001b[39m\u001b[39m'\u001b[39m]\u001b[39m.\u001b[39mmax()\u001b[39m+\u001b[39m\u001b[39m2\u001b[39m,\u001b[39m2\u001b[39m))\n\u001b[1;32m     10\u001b[0m \u001b[39m# Inserção de rótulos nas barras do histograma\u001b[39;00m\n",
            "File \u001b[0;32m~/.local/lib/python3.10/site-packages/pandas/core/frame.py:3761\u001b[0m, in \u001b[0;36mDataFrame.__getitem__\u001b[0;34m(self, key)\u001b[0m\n\u001b[1;32m   3759\u001b[0m \u001b[39mif\u001b[39;00m \u001b[39mself\u001b[39m\u001b[39m.\u001b[39mcolumns\u001b[39m.\u001b[39mnlevels \u001b[39m>\u001b[39m \u001b[39m1\u001b[39m:\n\u001b[1;32m   3760\u001b[0m     \u001b[39mreturn\u001b[39;00m \u001b[39mself\u001b[39m\u001b[39m.\u001b[39m_getitem_multilevel(key)\n\u001b[0;32m-> 3761\u001b[0m indexer \u001b[39m=\u001b[39m \u001b[39mself\u001b[39;49m\u001b[39m.\u001b[39;49mcolumns\u001b[39m.\u001b[39;49mget_loc(key)\n\u001b[1;32m   3762\u001b[0m \u001b[39mif\u001b[39;00m is_integer(indexer):\n\u001b[1;32m   3763\u001b[0m     indexer \u001b[39m=\u001b[39m [indexer]\n",
            "File \u001b[0;32m~/.local/lib/python3.10/site-packages/pandas/core/indexes/base.py:3655\u001b[0m, in \u001b[0;36mIndex.get_loc\u001b[0;34m(self, key)\u001b[0m\n\u001b[1;32m   3653\u001b[0m     \u001b[39mreturn\u001b[39;00m \u001b[39mself\u001b[39m\u001b[39m.\u001b[39m_engine\u001b[39m.\u001b[39mget_loc(casted_key)\n\u001b[1;32m   3654\u001b[0m \u001b[39mexcept\u001b[39;00m \u001b[39mKeyError\u001b[39;00m \u001b[39mas\u001b[39;00m err:\n\u001b[0;32m-> 3655\u001b[0m     \u001b[39mraise\u001b[39;00m \u001b[39mKeyError\u001b[39;00m(key) \u001b[39mfrom\u001b[39;00m \u001b[39merr\u001b[39;00m\n\u001b[1;32m   3656\u001b[0m \u001b[39mexcept\u001b[39;00m \u001b[39mTypeError\u001b[39;00m:\n\u001b[1;32m   3657\u001b[0m     \u001b[39m# If we have a listlike key, _check_indexing_error will raise\u001b[39;00m\n\u001b[1;32m   3658\u001b[0m     \u001b[39m#  InvalidIndexError. Otherwise we fall through and re-raise\u001b[39;00m\n\u001b[1;32m   3659\u001b[0m     \u001b[39m#  the TypeError.\u001b[39;00m\n\u001b[1;32m   3660\u001b[0m     \u001b[39mself\u001b[39m\u001b[39m.\u001b[39m_check_indexing_error(key)\n",
            "\u001b[0;31mKeyError\u001b[0m: 'Pontos médios'"
          ]
        },
        {
          "data": {
            "image/png": "[encoded data removed]",
            "text/plain": [
              "<Figure size 640x480 with 1 Axes>"
            ]
          },
          "metadata": {},
          "output_type": "display_data"
        }
      ],
      "source": [
        "# Construção do histograma\n",
        "histograma = data.hist(bins=[inter.left for inter in intervalos]+[v_max],\n",
        "                       color='green', edgecolor='black', grid=False)\n",
        "# Inserção de atributos ao gráfico\n",
        "histograma.set(xlabel='Preço [US$]',\n",
        "               ylabel='Frequência - Número de navegadores GPS',\n",
        "               title='Distribuição de frequências dos preços de GPS',\n",
        "               xticks=nova_dist_freq['Pontos médios'],\n",
        "               yticks=range(0,nova_dist_freq['Frequência'].max()+2,2))\n",
        "# Inserção de rótulos nas barras do histograma\n"
      ]
    },
    {
      "cell_type": "markdown",
      "metadata": {
        "id": "JlODEIwZRBk-"
      },
      "source": [
        "## **Construção do polígono de frequências**\n",
        "\n",
        "Para construir o polígono de frequências, vamos empregar comandos próprios da biblioteca `matplotlib.pyplot`."
      ]
    },
    {
      "cell_type": "code",
      "execution_count": null,
      "metadata": {
        "id": "dUlflEhpRTEu"
      },
      "outputs": [],
      "source": [
        "# Cálculo dos pontos médios fictícios\n",
        "fic_esq =\n",
        "print(f'Ponto médio fictício à esquerda = {fic_esq[0]}')\n",
        "fic_dir =\n",
        "print(f'Ponto médio fictício à direita = {fic_dir[0]}')"
      ]
    },
    {
      "cell_type": "code",
      "execution_count": null,
      "metadata": {
        "id": "dFoDMGjtrvd_"
      },
      "outputs": [],
      "source": [
        "# Construção dos dados com inserção dos pontos médios fictícios\n",
        "x_data =\n",
        "print(f'Valores para eixo x: {x_data}')\n",
        "y_data =\n",
        "print(f'Valores para eixo y: {y_data}')"
      ]
    },
    {
      "cell_type": "code",
      "execution_count": null,
      "metadata": {
        "id": "3HCwjIxPrrYX"
      },
      "outputs": [],
      "source": [
        "# Plotagem do polígono de frequências, com diversos atributos\n"
      ]
    },
    {
      "cell_type": "code",
      "execution_count": null,
      "metadata": {
        "id": "ZNKcwj9-slDs"
      },
      "outputs": [],
      "source": [
        "# Plotagem do polígono de frequências com frequências relativas\n",
        "\n",
        "plt.xlabel('Preço [US$]')\n",
        "plt.ylabel('Frequência relativa')\n",
        "plt.title('Distribuição de frequências dos preços de GPS')\n",
        "plt.xticks(x_data)\n",
        "plt.grid()"
      ]
    }
  ],
  "metadata": {
    "colab": {
      "provenance": []
    },
    "kernelspec": {
      "display_name": "Python 3",
      "name": "python3"
    },
    "language_info": {
      "codemirror_mode": {
        "name": "ipython",
        "version": 3
      },
      "file_extension": ".py",
      "mimetype": "text/x-python",
      "name": "python",
      "nbconvert_exporter": "python",
      "pygments_lexer": "ipython3",
      "version": "3.10.12"
    }
  },
  "nbformat": 4,
  "nbformat_minor": 0
}
