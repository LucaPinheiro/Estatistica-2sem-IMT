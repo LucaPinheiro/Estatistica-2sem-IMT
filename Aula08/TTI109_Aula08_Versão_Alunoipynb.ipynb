{
  "cells": [
    {
      "cell_type": "markdown",
      "metadata": {
        "id": "Ndk0MMS_I7K_"
      },
      "source": [
        "# **TTI109 - Estatística**\n",
        "# **Aula 08 - Probabilidade Condicional**\n",
        "\n",
        "Nessa aula vamos aprender a:\n",
        "\n",
        "* Calcular probabilidades condicionais em tabelas de distribuição conjunta de frequências;\n",
        "* Empregar as leis da adição e da multiplicação no cálculo de probabilidades."
      ]
    },
    {
      "cell_type": "markdown",
      "metadata": {
        "id": "ap2tq9N8zW9s"
      },
      "source": [
        "# Probabilidades condicionais - Esportes\n",
        "O conjunto de dados a seguir relaciona os esportes preferidos de 300 pessoas. Execute o código e inspecione algumas linhas do DataFrame."
      ]
    },
    {
      "cell_type": "code",
      "execution_count": 1,
      "metadata": {
        "id": "KhmT87Yiygrc"
      },
      "outputs": [],
      "source": [
        "import pandas as pd\n",
        "import numpy as np\n",
        "\n",
        "# Criação do pandas DataFrame\n",
        "esportes = pd.DataFrame({'gênero': np.repeat(np.array(['Masculino', 'Feminino']), 150),\n",
        "                         'esporte': np.repeat(np.array(['Beisebol', 'Basquete',\n",
        "                                                        'Futebol', 'Vôlei',\n",
        "                                                        'Beisebol', 'Basquete',\n",
        "                                                        'Futebol', 'Vôlei']),\n",
        "                                              (34, 40, 58, 18, 34, 52, 20, 44))})"
      ]
    },
    {
      "cell_type": "code",
      "execution_count": 2,
      "metadata": {
        "id": "uZkaTXiRMwhl"
      },
      "outputs": [
        {
          "data": {
            "text/html": [
              "<div>\n",
              "<style scoped>\n",
              "    .dataframe tbody tr th:only-of-type {\n",
              "        vertical-align: middle;\n",
              "    }\n",
              "\n",
              "    .dataframe tbody tr th {\n",
              "        vertical-align: top;\n",
              "    }\n",
              "\n",
              "    .dataframe thead th {\n",
              "        text-align: right;\n",
              "    }\n",
              "</style>\n",
              "<table border=\"1\" class=\"dataframe\">\n",
              "  <thead>\n",
              "    <tr style=\"text-align: right;\">\n",
              "      <th></th>\n",
              "      <th>gênero</th>\n",
              "      <th>esporte</th>\n",
              "    </tr>\n",
              "  </thead>\n",
              "  <tbody>\n",
              "    <tr>\n",
              "      <th>179</th>\n",
              "      <td>Feminino</td>\n",
              "      <td>Beisebol</td>\n",
              "    </tr>\n",
              "    <tr>\n",
              "      <th>63</th>\n",
              "      <td>Masculino</td>\n",
              "      <td>Basquete</td>\n",
              "    </tr>\n",
              "    <tr>\n",
              "      <th>131</th>\n",
              "      <td>Masculino</td>\n",
              "      <td>Futebol</td>\n",
              "    </tr>\n",
              "    <tr>\n",
              "      <th>54</th>\n",
              "      <td>Masculino</td>\n",
              "      <td>Basquete</td>\n",
              "    </tr>\n",
              "    <tr>\n",
              "      <th>164</th>\n",
              "      <td>Feminino</td>\n",
              "      <td>Beisebol</td>\n",
              "    </tr>\n",
              "    <tr>\n",
              "      <th>220</th>\n",
              "      <td>Feminino</td>\n",
              "      <td>Basquete</td>\n",
              "    </tr>\n",
              "    <tr>\n",
              "      <th>264</th>\n",
              "      <td>Feminino</td>\n",
              "      <td>Vôlei</td>\n",
              "    </tr>\n",
              "    <tr>\n",
              "      <th>31</th>\n",
              "      <td>Masculino</td>\n",
              "      <td>Beisebol</td>\n",
              "    </tr>\n",
              "    <tr>\n",
              "      <th>50</th>\n",
              "      <td>Masculino</td>\n",
              "      <td>Basquete</td>\n",
              "    </tr>\n",
              "    <tr>\n",
              "      <th>298</th>\n",
              "      <td>Feminino</td>\n",
              "      <td>Vôlei</td>\n",
              "    </tr>\n",
              "    <tr>\n",
              "      <th>52</th>\n",
              "      <td>Masculino</td>\n",
              "      <td>Basquete</td>\n",
              "    </tr>\n",
              "    <tr>\n",
              "      <th>55</th>\n",
              "      <td>Masculino</td>\n",
              "      <td>Basquete</td>\n",
              "    </tr>\n",
              "    <tr>\n",
              "      <th>150</th>\n",
              "      <td>Feminino</td>\n",
              "      <td>Beisebol</td>\n",
              "    </tr>\n",
              "    <tr>\n",
              "      <th>89</th>\n",
              "      <td>Masculino</td>\n",
              "      <td>Futebol</td>\n",
              "    </tr>\n",
              "    <tr>\n",
              "      <th>197</th>\n",
              "      <td>Feminino</td>\n",
              "      <td>Basquete</td>\n",
              "    </tr>\n",
              "  </tbody>\n",
              "</table>\n",
              "</div>"
            ],
            "text/plain": [
              "        gênero   esporte\n",
              "179   Feminino  Beisebol\n",
              "63   Masculino  Basquete\n",
              "131  Masculino   Futebol\n",
              "54   Masculino  Basquete\n",
              "164   Feminino  Beisebol\n",
              "220   Feminino  Basquete\n",
              "264   Feminino     Vôlei\n",
              "31   Masculino  Beisebol\n",
              "50   Masculino  Basquete\n",
              "298   Feminino     Vôlei\n",
              "52   Masculino  Basquete\n",
              "55   Masculino  Basquete\n",
              "150   Feminino  Beisebol\n",
              "89   Masculino   Futebol\n",
              "197   Feminino  Basquete"
            ]
          },
          "metadata": {},
          "output_type": "display_data"
        }
      ],
      "source": [
        "# Inspeção de algumas linhas do painel de dados\n",
        "display(esportes.sample(15))"
      ]
    },
    {
      "cell_type": "markdown",
      "metadata": {
        "id": "pOweA9LK004h"
      },
      "source": [
        "## Tabela de distribuição conjunta de frequências\n",
        "O cálculo de probabiidades condicionais fica facilitado a partir de uma tabela de distribuição conjunta de frequências. No caso desse exemplo, a tabela indicará as ocorrências de cada esporte em função do gênero do entrevistado. As colunas e linhas de rótulo \"All\" revelam os totais de ocorrências."
      ]
    },
    {
      "cell_type": "code",
      "execution_count": 3,
      "metadata": {
        "id": "nGqstkvf0lLY"
      },
      "outputs": [
        {
          "data": {
            "text/html": [
              "<div>\n",
              "<style scoped>\n",
              "    .dataframe tbody tr th:only-of-type {\n",
              "        vertical-align: middle;\n",
              "    }\n",
              "\n",
              "    .dataframe tbody tr th {\n",
              "        vertical-align: top;\n",
              "    }\n",
              "\n",
              "    .dataframe thead th {\n",
              "        text-align: right;\n",
              "    }\n",
              "</style>\n",
              "<table border=\"1\" class=\"dataframe\">\n",
              "  <thead>\n",
              "    <tr style=\"text-align: right;\">\n",
              "      <th>esporte</th>\n",
              "      <th>Basquete</th>\n",
              "      <th>Beisebol</th>\n",
              "      <th>Futebol</th>\n",
              "      <th>Vôlei</th>\n",
              "      <th>All</th>\n",
              "    </tr>\n",
              "    <tr>\n",
              "      <th>gênero</th>\n",
              "      <th></th>\n",
              "      <th></th>\n",
              "      <th></th>\n",
              "      <th></th>\n",
              "      <th></th>\n",
              "    </tr>\n",
              "  </thead>\n",
              "  <tbody>\n",
              "    <tr>\n",
              "      <th>Feminino</th>\n",
              "      <td>52</td>\n",
              "      <td>34</td>\n",
              "      <td>20</td>\n",
              "      <td>44</td>\n",
              "      <td>150</td>\n",
              "    </tr>\n",
              "    <tr>\n",
              "      <th>Masculino</th>\n",
              "      <td>40</td>\n",
              "      <td>34</td>\n",
              "      <td>58</td>\n",
              "      <td>18</td>\n",
              "      <td>150</td>\n",
              "    </tr>\n",
              "    <tr>\n",
              "      <th>All</th>\n",
              "      <td>92</td>\n",
              "      <td>68</td>\n",
              "      <td>78</td>\n",
              "      <td>62</td>\n",
              "      <td>300</td>\n",
              "    </tr>\n",
              "  </tbody>\n",
              "</table>\n",
              "</div>"
            ],
            "text/plain": [
              "esporte    Basquete  Beisebol  Futebol  Vôlei  All\n",
              "gênero                                            \n",
              "Feminino         52        34       20     44  150\n",
              "Masculino        40        34       58     18  150\n",
              "All              92        68       78     62  300"
            ]
          },
          "metadata": {},
          "output_type": "display_data"
        }
      ],
      "source": [
        "# Construção da tabela de distrbuição conjunta\n",
        "dist_conj = pd.crosstab(index=esportes['gênero'],\n",
        "                        columns=esportes['esporte'], margins=True)\n",
        "\n",
        "# Inspeção da tabela de distribuição conjunta\n",
        "display(dist_conj)"
      ]
    },
    {
      "cell_type": "markdown",
      "metadata": {
        "id": "Agwju0zB18VR"
      },
      "source": [
        "## Cálculo de probabilidades condicionais\n",
        "Use a tabela de distribuição conjunta da célula anterior e calcule a probabilidade de que um indivíduo sorteado aleatoriamente:\n",
        "\n",
        "*   seja do gênero masculino, visto que seu esporte preferido é o beisebol.\n",
        "*   tenha por esporte preferido o basquete, dado que seja do gênero feminino.\n",
        "\n",
        "No cáclulo dessas probabilidades, use o método `iloc` do `Pandas DataFrame` para localizar a informação desejada em termos das coordenadas de linha e coluna da tabela de distribuição conjunta.\n",
        "\n"
      ]
    },
    {
      "cell_type": "code",
      "execution_count": 4,
      "metadata": {
        "colab": {
          "base_uri": "https://localhost:8080/"
        },
        "id": "rW5088Nb19LS",
        "outputId": "6cecc386-ad92-43c8-bba8-12ce159419a6"
      },
      "outputs": [
        {
          "name": "stdout",
          "output_type": "stream",
          "text": [
            "P(Masculino|Beisebol) = 50.00%\n"
          ]
        }
      ],
      "source": [
        "# Probabilidade de ser do gênero masculino, dado que é fã de beisebol\n",
        "prob = dist_conj.iloc[1, 1]/dist_conj.iloc[2, 1]\n",
        "print(f'P(Masculino|Beisebol) = {prob*100:.2f}%')"
      ]
    },
    {
      "cell_type": "code",
      "execution_count": 5,
      "metadata": {
        "colab": {
          "base_uri": "https://localhost:8080/"
        },
        "id": "BDjQ_AQ3Ndvd",
        "outputId": "42492937-00d2-41fa-d2d5-e48521ac49ea"
      },
      "outputs": [
        {
          "name": "stdout",
          "output_type": "stream",
          "text": [
            "P(Basquete|Feminino) = 34.67%\n"
          ]
        }
      ],
      "source": [
        "# Probabilidade de ser fã de basquete, dado que é do gênero feminino\n",
        "prob = dist_conj.iloc[0, 0]/dist_conj.iloc[0, 4]\n",
        "print(f'P(Basquete|Feminino) = {prob*100:.2f}%')\n"
      ]
    },
    {
      "cell_type": "markdown",
      "metadata": {
        "id": "1OlxXkJI5SrT"
      },
      "source": [
        "## Distribuição conjunta normalizada pelas colunas\n",
        "\n",
        "Para determinar todas as probabilidades condicionais do tipo $P(\\text{Gênero}|\\text{Esporte})$, basta normalizar a tabela de distribuição conjunta usando as colunas."
      ]
    },
    {
      "cell_type": "code",
      "execution_count": 6,
      "metadata": {
        "id": "OKgEmEPWzjYz"
      },
      "outputs": [
        {
          "data": {
            "text/html": [
              "<div>\n",
              "<style scoped>\n",
              "    .dataframe tbody tr th:only-of-type {\n",
              "        vertical-align: middle;\n",
              "    }\n",
              "\n",
              "    .dataframe tbody tr th {\n",
              "        vertical-align: top;\n",
              "    }\n",
              "\n",
              "    .dataframe thead th {\n",
              "        text-align: right;\n",
              "    }\n",
              "</style>\n",
              "<table border=\"1\" class=\"dataframe\">\n",
              "  <thead>\n",
              "    <tr style=\"text-align: right;\">\n",
              "      <th>esporte</th>\n",
              "      <th>Basquete</th>\n",
              "      <th>Beisebol</th>\n",
              "      <th>Futebol</th>\n",
              "      <th>Vôlei</th>\n",
              "      <th>All</th>\n",
              "    </tr>\n",
              "    <tr>\n",
              "      <th>gênero</th>\n",
              "      <th></th>\n",
              "      <th></th>\n",
              "      <th></th>\n",
              "      <th></th>\n",
              "      <th></th>\n",
              "    </tr>\n",
              "  </thead>\n",
              "  <tbody>\n",
              "    <tr>\n",
              "      <th>Feminino</th>\n",
              "      <td>0.565217</td>\n",
              "      <td>0.5</td>\n",
              "      <td>0.25641</td>\n",
              "      <td>0.709677</td>\n",
              "      <td>0.5</td>\n",
              "    </tr>\n",
              "    <tr>\n",
              "      <th>Masculino</th>\n",
              "      <td>0.434783</td>\n",
              "      <td>0.5</td>\n",
              "      <td>0.74359</td>\n",
              "      <td>0.290323</td>\n",
              "      <td>0.5</td>\n",
              "    </tr>\n",
              "  </tbody>\n",
              "</table>\n",
              "</div>"
            ],
            "text/plain": [
              "esporte    Basquete  Beisebol  Futebol     Vôlei  All\n",
              "gênero                                               \n",
              "Feminino   0.565217       0.5  0.25641  0.709677  0.5\n",
              "Masculino  0.434783       0.5  0.74359  0.290323  0.5"
            ]
          },
          "metadata": {},
          "output_type": "display_data"
        }
      ],
      "source": [
        "''' Tabela de distribuição conjunta normalizada pelas colunas: Em nosso exemplo,\n",
        "exibe todas as probabilidades condicionais do tipo P(Gênero|Esporte)'''\n",
        "dist_conj_colunas = pd.crosstab(index=esportes['gênero'],\n",
        "                                columns=esportes['esporte'],\n",
        "                                margins=True, normalize='columns')\n",
        "\n",
        "# Inspeção da tabela\n",
        "display(dist_conj_colunas)"
      ]
    },
    {
      "cell_type": "markdown",
      "metadata": {
        "id": "z5aixEBm6wEk"
      },
      "source": [
        "## Distribuição conjunta normalizada pelas linhas (índice)\n",
        "\n",
        "Em contraste, para determinar todas as probabilidades condicionais do tipo $P(\\text{Esporte}|\\text{Gênero})$, basta normalizar a tabela de distribuição conjunta usando as linhas (ou seja, os índices)."
      ]
    },
    {
      "cell_type": "code",
      "execution_count": 7,
      "metadata": {
        "id": "lDmVKLpuy83F"
      },
      "outputs": [
        {
          "data": {
            "text/html": [
              "<div>\n",
              "<style scoped>\n",
              "    .dataframe tbody tr th:only-of-type {\n",
              "        vertical-align: middle;\n",
              "    }\n",
              "\n",
              "    .dataframe tbody tr th {\n",
              "        vertical-align: top;\n",
              "    }\n",
              "\n",
              "    .dataframe thead th {\n",
              "        text-align: right;\n",
              "    }\n",
              "</style>\n",
              "<table border=\"1\" class=\"dataframe\">\n",
              "  <thead>\n",
              "    <tr style=\"text-align: right;\">\n",
              "      <th>esporte</th>\n",
              "      <th>Basquete</th>\n",
              "      <th>Beisebol</th>\n",
              "      <th>Futebol</th>\n",
              "      <th>Vôlei</th>\n",
              "    </tr>\n",
              "    <tr>\n",
              "      <th>gênero</th>\n",
              "      <th></th>\n",
              "      <th></th>\n",
              "      <th></th>\n",
              "      <th></th>\n",
              "    </tr>\n",
              "  </thead>\n",
              "  <tbody>\n",
              "    <tr>\n",
              "      <th>Feminino</th>\n",
              "      <td>0.346667</td>\n",
              "      <td>0.226667</td>\n",
              "      <td>0.133333</td>\n",
              "      <td>0.293333</td>\n",
              "    </tr>\n",
              "    <tr>\n",
              "      <th>Masculino</th>\n",
              "      <td>0.266667</td>\n",
              "      <td>0.226667</td>\n",
              "      <td>0.386667</td>\n",
              "      <td>0.120000</td>\n",
              "    </tr>\n",
              "    <tr>\n",
              "      <th>All</th>\n",
              "      <td>0.306667</td>\n",
              "      <td>0.226667</td>\n",
              "      <td>0.260000</td>\n",
              "      <td>0.206667</td>\n",
              "    </tr>\n",
              "  </tbody>\n",
              "</table>\n",
              "</div>"
            ],
            "text/plain": [
              "esporte    Basquete  Beisebol   Futebol     Vôlei\n",
              "gênero                                           \n",
              "Feminino   0.346667  0.226667  0.133333  0.293333\n",
              "Masculino  0.266667  0.226667  0.386667  0.120000\n",
              "All        0.306667  0.226667  0.260000  0.206667"
            ]
          },
          "metadata": {},
          "output_type": "display_data"
        }
      ],
      "source": [
        "\n",
        "''' Tabela de distribuição conjunta normalizada pelas linhas: Em nosso exemplo,\n",
        "exibe todas as probabilidades condicionais do tipo P(Esporte|Gênero)'''\n",
        "dist_conj_linhas = pd.crosstab(index=esportes['gênero'],\n",
        "                               columns=esportes['esporte'],\n",
        "                               margins=True, normalize='index')\n",
        "\n",
        "# Inspeção da tabela\n",
        "display(dist_conj_linhas)"
      ]
    },
    {
      "cell_type": "markdown",
      "metadata": {
        "id": "IWcStMRWQOvj"
      },
      "source": [
        "# As leis da multiplicação e da adição\n",
        "Vamos usar a tabela de distribuição conjunta de frequências relativa à preferência por esportes (em sua forma original)."
      ]
    },
    {
      "cell_type": "code",
      "execution_count": 8,
      "metadata": {
        "id": "bFBXTRB_Rew9"
      },
      "outputs": [
        {
          "data": {
            "text/html": [
              "<div>\n",
              "<style scoped>\n",
              "    .dataframe tbody tr th:only-of-type {\n",
              "        vertical-align: middle;\n",
              "    }\n",
              "\n",
              "    .dataframe tbody tr th {\n",
              "        vertical-align: top;\n",
              "    }\n",
              "\n",
              "    .dataframe thead th {\n",
              "        text-align: right;\n",
              "    }\n",
              "</style>\n",
              "<table border=\"1\" class=\"dataframe\">\n",
              "  <thead>\n",
              "    <tr style=\"text-align: right;\">\n",
              "      <th>esporte</th>\n",
              "      <th>Basquete</th>\n",
              "      <th>Beisebol</th>\n",
              "      <th>Futebol</th>\n",
              "      <th>Vôlei</th>\n",
              "      <th>All</th>\n",
              "    </tr>\n",
              "    <tr>\n",
              "      <th>gênero</th>\n",
              "      <th></th>\n",
              "      <th></th>\n",
              "      <th></th>\n",
              "      <th></th>\n",
              "      <th></th>\n",
              "    </tr>\n",
              "  </thead>\n",
              "  <tbody>\n",
              "    <tr>\n",
              "      <th>Feminino</th>\n",
              "      <td>52</td>\n",
              "      <td>34</td>\n",
              "      <td>20</td>\n",
              "      <td>44</td>\n",
              "      <td>150</td>\n",
              "    </tr>\n",
              "    <tr>\n",
              "      <th>Masculino</th>\n",
              "      <td>40</td>\n",
              "      <td>34</td>\n",
              "      <td>58</td>\n",
              "      <td>18</td>\n",
              "      <td>150</td>\n",
              "    </tr>\n",
              "    <tr>\n",
              "      <th>All</th>\n",
              "      <td>92</td>\n",
              "      <td>68</td>\n",
              "      <td>78</td>\n",
              "      <td>62</td>\n",
              "      <td>300</td>\n",
              "    </tr>\n",
              "  </tbody>\n",
              "</table>\n",
              "</div>"
            ],
            "text/plain": [
              "esporte    Basquete  Beisebol  Futebol  Vôlei  All\n",
              "gênero                                            \n",
              "Feminino         52        34       20     44  150\n",
              "Masculino        40        34       58     18  150\n",
              "All              92        68       78     62  300"
            ]
          },
          "metadata": {},
          "output_type": "display_data"
        }
      ],
      "source": [
        "display(dist_conj)"
      ]
    },
    {
      "cell_type": "markdown",
      "metadata": {
        "id": "luSEFZoiRiZD"
      },
      "source": [
        "Vamos aplicar as regras da adição e da multiplicação para calcular as probabilidades de que um indivíduo:\n",
        "* seja do gênero masculino e tenha preferência pelo vôlei;\n",
        "* seja fã de futebol e seja do gênero feminino;\n",
        "* seja fã de basquete ou beisebol;\n",
        "* seja fã de beisebol ou seja do gênero feminino."
      ]
    },
    {
      "cell_type": "code",
      "execution_count": 9,
      "metadata": {
        "id": "bdQiWhG6R7YD"
      },
      "outputs": [
        {
          "name": "stdout",
          "output_type": "stream",
          "text": [
            "P(Masculino e Vôlei) = 6.00%\n"
          ]
        }
      ],
      "source": [
        "# P(Masculino e Vôlei) = P(Masculino) * P(Vôlei|Masculino)\n",
        "P1 = (dist_conj.iloc[1, 4]/dist_conj.iloc[2, 4]) * \\\n",
        "    (dist_conj.iloc[1, 3]/dist_conj.iloc[1, 4])\n",
        "print(f'P(Masculino e Vôlei) = {P1*100:.2f}%')"
      ]
    },
    {
      "cell_type": "code",
      "execution_count": 10,
      "metadata": {
        "id": "ESlBHemkTfby"
      },
      "outputs": [
        {
          "name": "stdout",
          "output_type": "stream",
          "text": [
            "P(Futebol e Feminino) = 6.67%\n"
          ]
        }
      ],
      "source": [
        "# P(Futebol e Feminino) = P(Futebol) * P(Feminino|Futebol)\n",
        "P2 = (dist_conj.iloc[2, 2]/dist_conj.iloc[2, 4])*(dist_conj.iloc[0, 2]/dist_conj.iloc[2, 2])\n",
        "print(f'P(Futebol e Feminino) = {P2*100:.2f}%')"
      ]
    },
    {
      "cell_type": "code",
      "execution_count": 12,
      "metadata": {
        "id": "707yv4a9Vfc3"
      },
      "outputs": [
        {
          "name": "stdout",
          "output_type": "stream",
          "text": [
            "P(Basquete ou Futebol) = 56.67%\n"
          ]
        }
      ],
      "source": [
        "# P(Basquete ou Futebol) = P(Basquete) + P(Futebol)\n",
        "P3 = dist_conj.iloc[2, 0]/dist_conj.iloc[2, 4] + dist_conj.iloc[2, 2]/dist_conj.iloc[2, 4]\n",
        "print(f'P(Basquete ou Futebol) = {P3*100:.2f}%')"
      ]
    },
    {
      "cell_type": "code",
      "execution_count": 11,
      "metadata": {
        "id": "ieOJQqWoWVop"
      },
      "outputs": [
        {
          "name": "stdout",
          "output_type": "stream",
          "text": [
            "P(Beisebol ou Feminino) = 61.33%\n"
          ]
        }
      ],
      "source": [
        "\n",
        "# P(Beisebol ou Feminino) = P(Beisebol) + P(Feminino) - P(Beisebol e Feminino)\n",
        "\n",
        "# P(Beisebol)\n",
        "Pbeisebol = dist_conj.iloc[2, 1]/dist_conj.iloc[2, 4]\n",
        "\n",
        "# P(Feminino)\n",
        "Pfeminino = dist_conj.iloc[0, 4]/dist_conj.iloc[2, 4]\n",
        "\n",
        "# P(Beisebol e Feminino) = P(Beisebol) * P(Feminino|Beisebol)\n",
        "Pbei_fem = Pbeisebol * dist_conj.iloc[0, 1]/dist_conj.iloc[2, 1]\n",
        "\n",
        "# P(Beisebol ou Feminino)\n",
        "P4 = Pbeisebol + Pfeminino - Pbei_fem\n",
        "print(f'P(Beisebol ou Feminino) = {P4*100:.2f}%')"
      ]
    },
    {
      "cell_type": "markdown",
      "metadata": {
        "id": "6skoVZPg7q9M"
      },
      "source": [
        "# Probabilidades condicionais - automóveis\n",
        "O conjunto de dados a seguir reune informações sobre a montadora, o modelo, o tipo e a classificação (nota atribuída por imprensa qualificada) de alguns automóveis."
      ]
    },
    {
      "cell_type": "code",
      "execution_count": 13,
      "metadata": {
        "id": "gM6aPWRY19z6"
      },
      "outputs": [
        {
          "data": {
            "text/html": [
              "<div>\n",
              "<style scoped>\n",
              "    .dataframe tbody tr th:only-of-type {\n",
              "        vertical-align: middle;\n",
              "    }\n",
              "\n",
              "    .dataframe tbody tr th {\n",
              "        vertical-align: top;\n",
              "    }\n",
              "\n",
              "    .dataframe thead th {\n",
              "        text-align: right;\n",
              "    }\n",
              "</style>\n",
              "<table border=\"1\" class=\"dataframe\">\n",
              "  <thead>\n",
              "    <tr style=\"text-align: right;\">\n",
              "      <th></th>\n",
              "      <th>montadora</th>\n",
              "      <th>modelo</th>\n",
              "      <th>nota</th>\n",
              "      <th>tipo</th>\n",
              "    </tr>\n",
              "  </thead>\n",
              "  <tbody>\n",
              "    <tr>\n",
              "      <th>0</th>\n",
              "      <td>ford</td>\n",
              "      <td>mustang</td>\n",
              "      <td>A</td>\n",
              "      <td>coupe</td>\n",
              "    </tr>\n",
              "    <tr>\n",
              "      <th>1</th>\n",
              "      <td>chevy</td>\n",
              "      <td>camaro</td>\n",
              "      <td>B</td>\n",
              "      <td>coupe</td>\n",
              "    </tr>\n",
              "    <tr>\n",
              "      <th>2</th>\n",
              "      <td>ford</td>\n",
              "      <td>fiesta</td>\n",
              "      <td>C</td>\n",
              "      <td>sedan</td>\n",
              "    </tr>\n",
              "    <tr>\n",
              "      <th>3</th>\n",
              "      <td>ford</td>\n",
              "      <td>focus</td>\n",
              "      <td>A</td>\n",
              "      <td>sedan</td>\n",
              "    </tr>\n",
              "    <tr>\n",
              "      <th>4</th>\n",
              "      <td>ford</td>\n",
              "      <td>taurus</td>\n",
              "      <td>B</td>\n",
              "      <td>sedan</td>\n",
              "    </tr>\n",
              "    <tr>\n",
              "      <th>5</th>\n",
              "      <td>toyota</td>\n",
              "      <td>camry</td>\n",
              "      <td>B</td>\n",
              "      <td>sedan</td>\n",
              "    </tr>\n",
              "  </tbody>\n",
              "</table>\n",
              "</div>"
            ],
            "text/plain": [
              "  montadora   modelo nota   tipo\n",
              "0      ford  mustang    A  coupe\n",
              "1     chevy   camaro    B  coupe\n",
              "2      ford   fiesta    C  sedan\n",
              "3      ford    focus    A  sedan\n",
              "4      ford   taurus    B  sedan\n",
              "5    toyota    camry    B  sedan"
            ]
          },
          "metadata": {},
          "output_type": "display_data"
        }
      ],
      "source": [
        "# Construção do conjunto de dados\n",
        "auto = pd.DataFrame({'montadora': ['ford', 'chevy', 'ford',\n",
        "                                   'ford', 'ford', 'toyota'],\n",
        "                     'modelo': ['mustang', 'camaro', 'fiesta',\n",
        "                                'focus', 'taurus', 'camry'],\n",
        "                     'nota': ['A', 'B', 'C', 'A', 'B', 'B'],\n",
        "                     'tipo': ['coupe', 'coupe', 'sedan',\n",
        "                              'sedan', 'sedan', 'sedan']})\n",
        "# Inspeção da tabela\n",
        "display(auto)"
      ]
    },
    {
      "cell_type": "markdown",
      "metadata": {
        "id": "WQb33ssf8pfI"
      },
      "source": [
        "Construa a tabela de distrbuição conjunta de frequências usando o tipo do automóvel como indexador de linhas e as respectivas notas como colunas. A seguir, calcule a probabilidade de um automóvel:\n",
        "\n",
        "*   ser classificado com nota A, dado que é do tipo sedan.\n",
        "*   ser do tipo coupe, dado que foi avaliado com nota B.\n",
        "\n"
      ]
    },
    {
      "cell_type": "code",
      "execution_count": 14,
      "metadata": {
        "id": "N_OLeRb28K35"
      },
      "outputs": [
        {
          "data": {
            "text/html": [
              "<div>\n",
              "<style scoped>\n",
              "    .dataframe tbody tr th:only-of-type {\n",
              "        vertical-align: middle;\n",
              "    }\n",
              "\n",
              "    .dataframe tbody tr th {\n",
              "        vertical-align: top;\n",
              "    }\n",
              "\n",
              "    .dataframe thead th {\n",
              "        text-align: right;\n",
              "    }\n",
              "</style>\n",
              "<table border=\"1\" class=\"dataframe\">\n",
              "  <thead>\n",
              "    <tr style=\"text-align: right;\">\n",
              "      <th>nota</th>\n",
              "      <th>A</th>\n",
              "      <th>B</th>\n",
              "      <th>C</th>\n",
              "      <th>All</th>\n",
              "    </tr>\n",
              "    <tr>\n",
              "      <th>tipo</th>\n",
              "      <th></th>\n",
              "      <th></th>\n",
              "      <th></th>\n",
              "      <th></th>\n",
              "    </tr>\n",
              "  </thead>\n",
              "  <tbody>\n",
              "    <tr>\n",
              "      <th>coupe</th>\n",
              "      <td>1</td>\n",
              "      <td>1</td>\n",
              "      <td>0</td>\n",
              "      <td>2</td>\n",
              "    </tr>\n",
              "    <tr>\n",
              "      <th>sedan</th>\n",
              "      <td>1</td>\n",
              "      <td>2</td>\n",
              "      <td>1</td>\n",
              "      <td>4</td>\n",
              "    </tr>\n",
              "    <tr>\n",
              "      <th>All</th>\n",
              "      <td>2</td>\n",
              "      <td>3</td>\n",
              "      <td>1</td>\n",
              "      <td>6</td>\n",
              "    </tr>\n",
              "  </tbody>\n",
              "</table>\n",
              "</div>"
            ],
            "text/plain": [
              "nota   A  B  C  All\n",
              "tipo               \n",
              "coupe  1  1  0    2\n",
              "sedan  1  2  1    4\n",
              "All    2  3  1    6"
            ]
          },
          "metadata": {},
          "output_type": "display_data"
        }
      ],
      "source": [
        "# Construção da tabela de distribuição conjunta\n",
        "tabela = pd.crosstab(auto.tipo, auto.nota, margins=True)\n",
        "# Inspeção da tabela\n",
        "display(tabela)"
      ]
    },
    {
      "cell_type": "code",
      "execution_count": 15,
      "metadata": {
        "id": "1S-pSCdyZL-u"
      },
      "outputs": [
        {
          "name": "stdout",
          "output_type": "stream",
          "text": [
            "P(A|sedan) = 25.00%\n"
          ]
        }
      ],
      "source": [
        "# P(A|sedan)\n",
        "prob1 = tabela.iloc[1, 0] / tabela.iloc[1, 3]\n",
        "print(f'P(A|sedan) = {prob1*100:.2f}%')"
      ]
    },
    {
      "cell_type": "code",
      "execution_count": 16,
      "metadata": {
        "id": "QLSzpY0OZR3v"
      },
      "outputs": [
        {
          "name": "stdout",
          "output_type": "stream",
          "text": [
            "P(coupe|B) = 33.33%\n"
          ]
        }
      ],
      "source": [
        "# P(coupe|B)\n",
        "prob2 = tabela.iloc[0, 1] / tabela.iloc[2, 1]\n",
        "print(f'P(coupe|B) = {prob2*100:.2f}%')"
      ]
    },
    {
      "cell_type": "markdown",
      "metadata": {
        "id": "_v3xnH0E_c_I"
      },
      "source": [
        "Verifique seus cálculos ao construir versões da tabela de distribuição conjunta normalizadas pelas colunas e linhas."
      ]
    },
    {
      "cell_type": "code",
      "execution_count": 17,
      "metadata": {
        "id": "dtgSTtSq9JTZ"
      },
      "outputs": [
        {
          "name": "stdout",
          "output_type": "stream",
          "text": [
            "** Probabilidades condicionais: P(nota|tipo) **\n"
          ]
        },
        {
          "data": {
            "text/html": [
              "<div>\n",
              "<style scoped>\n",
              "    .dataframe tbody tr th:only-of-type {\n",
              "        vertical-align: middle;\n",
              "    }\n",
              "\n",
              "    .dataframe tbody tr th {\n",
              "        vertical-align: top;\n",
              "    }\n",
              "\n",
              "    .dataframe thead th {\n",
              "        text-align: right;\n",
              "    }\n",
              "</style>\n",
              "<table border=\"1\" class=\"dataframe\">\n",
              "  <thead>\n",
              "    <tr style=\"text-align: right;\">\n",
              "      <th>nota</th>\n",
              "      <th>A</th>\n",
              "      <th>B</th>\n",
              "      <th>C</th>\n",
              "    </tr>\n",
              "    <tr>\n",
              "      <th>tipo</th>\n",
              "      <th></th>\n",
              "      <th></th>\n",
              "      <th></th>\n",
              "    </tr>\n",
              "  </thead>\n",
              "  <tbody>\n",
              "    <tr>\n",
              "      <th>coupe</th>\n",
              "      <td>0.500000</td>\n",
              "      <td>0.5</td>\n",
              "      <td>0.000000</td>\n",
              "    </tr>\n",
              "    <tr>\n",
              "      <th>sedan</th>\n",
              "      <td>0.250000</td>\n",
              "      <td>0.5</td>\n",
              "      <td>0.250000</td>\n",
              "    </tr>\n",
              "    <tr>\n",
              "      <th>All</th>\n",
              "      <td>0.333333</td>\n",
              "      <td>0.5</td>\n",
              "      <td>0.166667</td>\n",
              "    </tr>\n",
              "  </tbody>\n",
              "</table>\n",
              "</div>"
            ],
            "text/plain": [
              "nota          A    B         C\n",
              "tipo                          \n",
              "coupe  0.500000  0.5  0.000000\n",
              "sedan  0.250000  0.5  0.250000\n",
              "All    0.333333  0.5  0.166667"
            ]
          },
          "metadata": {},
          "output_type": "display_data"
        }
      ],
      "source": [
        "# Probabilidades condicionais: P(nota|tipo)\n",
        "print('** Probabilidades condicionais: P(nota|tipo) **')\n",
        "tabela_linhas = pd.crosstab(auto.tipo, auto.nota,\n",
        "                            margins=True, normalize='index')\n",
        "\n",
        "display(tabela_linhas)"
      ]
    },
    {
      "cell_type": "code",
      "execution_count": 18,
      "metadata": {
        "id": "VzSF1wTOZmE_"
      },
      "outputs": [
        {
          "name": "stdout",
          "output_type": "stream",
          "text": [
            "** Probabilidades condicionais: P(tipo|nota) **\n"
          ]
        },
        {
          "data": {
            "text/html": [
              "<div>\n",
              "<style scoped>\n",
              "    .dataframe tbody tr th:only-of-type {\n",
              "        vertical-align: middle;\n",
              "    }\n",
              "\n",
              "    .dataframe tbody tr th {\n",
              "        vertical-align: top;\n",
              "    }\n",
              "\n",
              "    .dataframe thead th {\n",
              "        text-align: right;\n",
              "    }\n",
              "</style>\n",
              "<table border=\"1\" class=\"dataframe\">\n",
              "  <thead>\n",
              "    <tr style=\"text-align: right;\">\n",
              "      <th>nota</th>\n",
              "      <th>A</th>\n",
              "      <th>B</th>\n",
              "      <th>C</th>\n",
              "      <th>All</th>\n",
              "    </tr>\n",
              "    <tr>\n",
              "      <th>tipo</th>\n",
              "      <th></th>\n",
              "      <th></th>\n",
              "      <th></th>\n",
              "      <th></th>\n",
              "    </tr>\n",
              "  </thead>\n",
              "  <tbody>\n",
              "    <tr>\n",
              "      <th>coupe</th>\n",
              "      <td>0.5</td>\n",
              "      <td>0.333333</td>\n",
              "      <td>0.0</td>\n",
              "      <td>0.333333</td>\n",
              "    </tr>\n",
              "    <tr>\n",
              "      <th>sedan</th>\n",
              "      <td>0.5</td>\n",
              "      <td>0.666667</td>\n",
              "      <td>1.0</td>\n",
              "      <td>0.666667</td>\n",
              "    </tr>\n",
              "  </tbody>\n",
              "</table>\n",
              "</div>"
            ],
            "text/plain": [
              "nota     A         B    C       All\n",
              "tipo                               \n",
              "coupe  0.5  0.333333  0.0  0.333333\n",
              "sedan  0.5  0.666667  1.0  0.666667"
            ]
          },
          "metadata": {},
          "output_type": "display_data"
        }
      ],
      "source": [
        "# Probabilidades condicionais: P(tipo|nota)\n",
        "print('** Probabilidades condicionais: P(tipo|nota) **')\n",
        "tabela_colunas = pd.crosstab(auto.tipo, auto.nota,\n",
        "                            margins=True, normalize='columns')\n",
        "\n",
        "display(tabela_colunas)"
      ]
    }
  ],
  "metadata": {
    "colab": {
      "provenance": []
    },
    "kernelspec": {
      "display_name": "Python 3",
      "name": "python3"
    },
    "language_info": {
      "codemirror_mode": {
        "name": "ipython",
        "version": 3
      },
      "file_extension": ".py",
      "mimetype": "text/x-python",
      "name": "python",
      "nbconvert_exporter": "python",
      "pygments_lexer": "ipython3",
      "version": "3.10.12"
    }
  },
  "nbformat": 4,
  "nbformat_minor": 0
}
