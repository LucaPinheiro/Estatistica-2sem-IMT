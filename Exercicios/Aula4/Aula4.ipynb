{
 "cells": [
  {
   "cell_type": "code",
   "execution_count": 1,
   "metadata": {},
   "outputs": [],
   "source": [
    "import pandas as pd"
   ]
  },
  {
   "cell_type": "markdown",
   "metadata": {},
   "source": [
    "Exercício 02 – Para cada conjunto de dados a seguir encontre a média, a mediana e a moda dos dados\n",
    "(se possível). Se quaisquer dessas medidas não puderem ser encontradas ou não representarem o centro\n",
    "dos dados, explique o porquê."
   ]
  },
  {
   "cell_type": "markdown",
   "metadata": {},
   "source": [
    "![Alt text](image.png)\n"
   ]
  },
  {
   "cell_type": "code",
   "execution_count": 12,
   "metadata": {},
   "outputs": [
    {
     "name": "stdout",
     "output_type": "stream",
     "text": [
      "0    15.0\n",
      "dtype: float64\n",
      "0    15.0\n",
      "dtype: float64\n",
      "    0\n",
      "0  16\n"
     ]
    }
   ],
   "source": [
    "dados = [12, 14, 16, 15, 13, 14, 15, 18, 16, 16, 12, 16, 15]\n",
    "df = pd.DataFrame(dados)\n",
    "media = round(df.mean())\n",
    "mediana = round(df.median())\n",
    "moda = round(df.mode())\n",
    "print(media)\n",
    "print(mediana)\n",
    "print(moda)\n"
   ]
  }
 ],
 "metadata": {
  "kernelspec": {
   "display_name": "Python 3",
   "language": "python",
   "name": "python3"
  },
  "language_info": {
   "codemirror_mode": {
    "name": "ipython",
    "version": 3
   },
   "file_extension": ".py",
   "mimetype": "text/x-python",
   "name": "python",
   "nbconvert_exporter": "python",
   "pygments_lexer": "ipython3",
   "version": "3.10.12"
  },
  "orig_nbformat": 4
 },
 "nbformat": 4,
 "nbformat_minor": 2
}
